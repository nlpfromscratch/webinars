{
 "cells": [
  {
   "cell_type": "markdown",
   "metadata": {
    "id": "fwukZZnNTYWE",
    "tags": []
   },
   "source": [
    "<a href=\"https://www.nlpfromscratch.com?utm_source=notebook&utm_medium=nb-header&utm_campaign=2023-11-NLPWebinar\"><center><img src=\"./assets/banner.png\"></center></a>\n",
    "\n",
    "## Learn natural language processing. From A to Z. From zero to hero. Fast.\n",
    "\n",
    "Copyright, NLP from scratch, 2023.\n",
    "\n",
    "[nlpfromscratch.com](https://www.nlpfromscratch.com)\n",
    "\n",
    "------------"
   ]
  },
  {
   "cell_type": "markdown",
   "metadata": {
    "id": "gmAd3hBe94HF"
   },
   "source": [
    "# Webinar #1 - Zero to NLP in 60"
   ]
  },
  {
   "cell_type": "markdown",
   "metadata": {
    "id": "uuznFjxWVV0n"
   },
   "source": [
    "## Introduction 🎬\n",
    "In this notebook, we will rapidly through multiple areas in the field of natural language processing, and show it is easy to accomplish many of the common [NLP tasks](https://en.wikipedia.org/wiki/Natural_language_processing#Common_NLP_tasks) using the open source libraries that exist today and only a few simple lines of code!\n",
    "\n",
    "This notebook is best run in [Google Colab](https://colab.research.google.com/), where the majority of dependencies are already installed. However, if you wish to run the notebook locally, please follow the [directions for setting up a local environment](https://drive.google.com/file/d/1EV1seK-dUHRCzj2EDuu3ETAhUyjzOGRd/view?usp=drive_link) and you may then download the notebook as a `.ipynb` and run in either Jupyter or Jupyterlab.\n",
    "\n",
    "This notebook uses a number of helpful data science and machine learning libraries in addtion to base python, which come installed with Google Colab by default. These would need to be installed locally using `pip` or another python package manager if you are going to download and run this notebook outside of Colab. Notably, we will be using:\n",
    "\n",
    "- The `requests` library, for retrieving data from online sources\n",
    "- The `pandas` library, for data manipulation and working with structured data\n",
    "- The `matplotlib` library, for visualizating data\n",
    "- The `scikit-learn` library, for machine learning and text data preprocessing"
   ]
  },
  {
   "cell_type": "markdown",
   "metadata": {
    "id": "wIYlXEozjmSM"
   },
   "source": [
    "## Working with Text in Python 🐍\n",
    "\n",
    "Python is a great language to learn as it is easy to pick up even for the non-technical beginner with no prior programming experience. This is largely due to its simple syntax and structure. For natural language processing, working with text data is easy to do in modules included in base python, such as the `string` and `re` (regular expressions) modules. There is also extensive text processing capabilities built into the [pandas](https://pandas.pydata.org/docs/user_guide/text.html) data science library as we will see shortly.\n",
    "\n",
    "For a simple example, let's first define a string in Python:"
   ]
  },
  {
   "cell_type": "code",
   "execution_count": null,
   "metadata": {
    "colab": {
     "base_uri": "https://localhost:8080/"
    },
    "id": "sqQGvXeojmSN",
    "outputId": "9c41f11b-73aa-47a9-cadd-dac01b54226d"
   },
   "outputs": [
    {
     "name": "stdout",
     "output_type": "stream",
     "text": [
      "This is a string about applesauce.\n"
     ]
    }
   ],
   "source": [
    "my_string = \"This is a string about applesauce.\"\n",
    "print(my_string)"
   ]
  },
  {
   "cell_type": "markdown",
   "metadata": {
    "id": "O6Qt3sjqjmSR"
   },
   "source": [
    "In Jupyter, we can render text in the notebook using [Markdown](https://en.wikipedia.org/wiki/Markdown), using the Markdown class from the `IPython.display` module:"
   ]
  },
  {
   "cell_type": "code",
   "execution_count": null,
   "metadata": {
    "colab": {
     "base_uri": "https://localhost:8080/",
     "height": 46
    },
    "id": "M3V-PaUPjmSS",
    "outputId": "bbb0df09-32ae-4f93-f3a8-f94593e93ba1"
   },
   "outputs": [
    {
     "data": {
      "text/markdown": [
       "This is a string about applesauce."
      ],
      "text/plain": [
       "<IPython.core.display.Markdown object>"
      ]
     },
     "execution_count": 2,
     "metadata": {},
     "output_type": "execute_result"
    }
   ],
   "source": [
    "from IPython.display import Markdown\n",
    "\n",
    "Markdown(my_string)"
   ]
  },
  {
   "cell_type": "markdown",
   "metadata": {
    "id": "UMwAl1mxjmST"
   },
   "source": [
    "There, that looks a little better. Long strings can be defined in Python using the triple quote (`\"\"\"`) to open and close the string, and can span multiple lines:"
   ]
  },
  {
   "cell_type": "code",
   "execution_count": null,
   "metadata": {
    "id": "WdGvqvwWjmSU"
   },
   "outputs": [],
   "source": [
    "my_long_string = \"\"\"This is my string of text data I'd like to work with. It contains letters, numbers such as 1234, punctuation \\\n",
    "such as commas, semicolons; other weird punctuation such as hashtags #, and also special characters such as \\\\n, \\\\r, and \\\\t, \\\n",
    "which represent linebreaks and tabs. I feel I should also mention applesauce.\"\"\""
   ]
  },
  {
   "cell_type": "code",
   "execution_count": null,
   "metadata": {
    "colab": {
     "base_uri": "https://localhost:8080/",
     "height": 81
    },
    "id": "bsk7PB7IjmSV",
    "outputId": "ccf79ac2-6d02-4e02-938e-57d048e0a48a"
   },
   "outputs": [
    {
     "data": {
      "text/markdown": [
       "This is my string of text data I'd like to work with. It contains letters, numbers such as 1234, punctuation such as commas, semicolons; other weird punctuation such as hashtags #, and also special characters such as \\n, \\r, and \\t, which represent linebreaks and tabs. I feel I should also mention applesauce."
      ],
      "text/plain": [
       "<IPython.core.display.Markdown object>"
      ]
     },
     "execution_count": 4,
     "metadata": {},
     "output_type": "execute_result"
    }
   ],
   "source": [
    "Markdown(my_long_string)"
   ]
  },
  {
   "cell_type": "markdown",
   "metadata": {
    "id": "gBeHULrtjmSV"
   },
   "source": [
    "Every string variable in Python is not a primitive (such as in languages like C), but actually an object of the string class. They contain methods for common text-based operations. For example, we can change text case using `.upper`, `.lower`, and `title`:"
   ]
  },
  {
   "cell_type": "code",
   "execution_count": null,
   "metadata": {
    "colab": {
     "base_uri": "https://localhost:8080/",
     "height": 71
    },
    "id": "6sH2NbdOjmSW",
    "outputId": "57677220-097b-4892-ee72-db6835d40c92"
   },
   "outputs": [
    {
     "data": {
      "application/vnd.google.colaboratory.intrinsic+json": {
       "type": "string"
      },
      "text/plain": [
       "\"THIS IS MY STRING OF TEXT DATA I'D LIKE TO WORK WITH. IT CONTAINS LETTERS, NUMBERS SUCH AS 1234, PUNCTUATION SUCH AS COMMAS, SEMICOLONS; OTHER WEIRD PUNCTUATION SUCH AS HASHTAGS #, AND ALSO SPECIAL CHARACTERS SUCH AS \\\\N, \\\\R, AND \\\\T, WHICH REPRESENT LINEBREAKS AND TABS. I FEEL I SHOULD ALSO MENTION APPLESAUCE.\""
      ]
     },
     "execution_count": 5,
     "metadata": {},
     "output_type": "execute_result"
    }
   ],
   "source": [
    "# Upper case\n",
    "my_long_string.upper()"
   ]
  },
  {
   "cell_type": "code",
   "execution_count": null,
   "metadata": {
    "colab": {
     "base_uri": "https://localhost:8080/",
     "height": 71
    },
    "id": "SO7Uje1XjmSW",
    "outputId": "534370d1-adb6-4667-b06a-ce885c1ad518"
   },
   "outputs": [
    {
     "data": {
      "application/vnd.google.colaboratory.intrinsic+json": {
       "type": "string"
      },
      "text/plain": [
       "\"this is my string of text data i'd like to work with. it contains letters, numbers such as 1234, punctuation such as commas, semicolons; other weird punctuation such as hashtags #, and also special characters such as \\\\n, \\\\r, and \\\\t, which represent linebreaks and tabs. i feel i should also mention applesauce.\""
      ]
     },
     "execution_count": 6,
     "metadata": {},
     "output_type": "execute_result"
    }
   ],
   "source": [
    "# Lower case\n",
    "my_long_string.lower()"
   ]
  },
  {
   "cell_type": "code",
   "execution_count": null,
   "metadata": {
    "colab": {
     "base_uri": "https://localhost:8080/",
     "height": 71
    },
    "id": "1PZy-XwBjmSW",
    "outputId": "986c8e9a-ecc0-4aa2-f7bf-be9118f96d64"
   },
   "outputs": [
    {
     "data": {
      "application/vnd.google.colaboratory.intrinsic+json": {
       "type": "string"
      },
      "text/plain": [
       "\"This Is My String Of Text Data I'D Like To Work With. It Contains Letters, Numbers Such As 1234, Punctuation Such As Commas, Semicolons; Other Weird Punctuation Such As Hashtags #, And Also Special Characters Such As \\\\N, \\\\R, And \\\\T, Which Represent Linebreaks And Tabs. I Feel I Should Also Mention Applesauce.\""
      ]
     },
     "execution_count": 7,
     "metadata": {},
     "output_type": "execute_result"
    }
   ],
   "source": [
    "# Title case\n",
    "my_long_string.title()"
   ]
  },
  {
   "cell_type": "markdown",
   "metadata": {
    "id": "gJvivs0SjmSX"
   },
   "source": [
    "We can also replace every occurrence of a substring within a given string with another substring, using the `.replace` method:"
   ]
  },
  {
   "cell_type": "code",
   "execution_count": null,
   "metadata": {
    "colab": {
     "base_uri": "https://localhost:8080/",
     "height": 89
    },
    "id": "W9ea3phWjmSX",
    "outputId": "4531776e-a7a2-406f-de86-35a0bbdd1b31"
   },
   "outputs": [
    {
     "data": {
      "application/vnd.google.colaboratory.intrinsic+json": {
       "type": "string"
      },
      "text/plain": [
       "\"Th_EYEBALL_s _EYEBALL_s my str_EYEBALL_ng of text data I'd l_EYEBALL_ke to work w_EYEBALL_th. It conta_EYEBALL_ns letters, numbers such as 1234, punctuat_EYEBALL_on such as commas, sem_EYEBALL_colons; other we_EYEBALL_rd punctuat_EYEBALL_on such as hashtags #, and also spec_EYEBALL_al characters such as \\\\n, \\\\r, and \\\\t, wh_EYEBALL_ch represent l_EYEBALL_nebreaks and tabs. I feel I should also ment_EYEBALL_on applesauce.\""
      ]
     },
     "execution_count": 8,
     "metadata": {},
     "output_type": "execute_result"
    }
   ],
   "source": [
    "my_long_string.replace(\"i\", \"_EYEBALL_\")"
   ]
  },
  {
   "cell_type": "markdown",
   "metadata": {
    "id": "Fls7BAsVjmSY"
   },
   "source": [
    "To search for substrings within a given string, we can use the `find` method, to return the character index:"
   ]
  },
  {
   "cell_type": "code",
   "execution_count": null,
   "metadata": {
    "colab": {
     "base_uri": "https://localhost:8080/"
    },
    "id": "5xR-BQFvjmSY",
    "outputId": "761486ea-0df2-4193-cb4b-3fee6c3d3be8"
   },
   "outputs": [
    {
     "data": {
      "text/plain": [
       "299"
      ]
     },
     "execution_count": 9,
     "metadata": {},
     "output_type": "execute_result"
    }
   ],
   "source": [
    "my_long_string.find(\"applesauce\")"
   ]
  },
  {
   "cell_type": "markdown",
   "metadata": {
    "id": "IyRUwm4ajmSY"
   },
   "source": [
    "We can also subset strings as though they are a list of characters:"
   ]
  },
  {
   "cell_type": "code",
   "execution_count": null,
   "metadata": {
    "colab": {
     "base_uri": "https://localhost:8080/",
     "height": 36
    },
    "id": "X6V5popSjmSZ",
    "outputId": "c9d247ca-4805-4cf8-a44b-9cc0aac03afa"
   },
   "outputs": [
    {
     "data": {
      "application/vnd.google.colaboratory.intrinsic+json": {
       "type": "string"
      },
      "text/plain": [
       "'applesauce'"
      ]
     },
     "execution_count": 10,
     "metadata": {},
     "output_type": "execute_result"
    }
   ],
   "source": [
    "# Get characters 300 to 308 of the string\n",
    "my_long_string[299:309]"
   ]
  },
  {
   "cell_type": "markdown",
   "metadata": {
    "id": "QS4evqJVjmSZ"
   },
   "source": [
    "Finally, any serious data science work in done in Python would be using the pandas library 🐼. In pandas, we work with [DataFrames](https://pandas.pydata.org/docs/reference/api/pandas.DataFrame.html), which are like tables in Excel or in a database. Pandas has the `.str` accessor, which can efficiently apply any base string method to a column of data element-wise:"
   ]
  },
  {
   "cell_type": "code",
   "execution_count": null,
   "metadata": {
    "colab": {
     "base_uri": "https://localhost:8080/",
     "height": 332
    },
    "id": "rBRu8KT-jmSZ",
    "outputId": "2f9b519e-5d07-4aed-bc35-7cd7af7a3dd1"
   },
   "outputs": [
    {
     "data": {
      "text/html": [
       "\n",
       "  <div id=\"df-00f62873-c199-450d-9d2a-048d4e613380\" class=\"colab-df-container\">\n",
       "    <div>\n",
       "<style scoped>\n",
       "    .dataframe tbody tr th:only-of-type {\n",
       "        vertical-align: middle;\n",
       "    }\n",
       "\n",
       "    .dataframe tbody tr th {\n",
       "        vertical-align: top;\n",
       "    }\n",
       "\n",
       "    .dataframe thead th {\n",
       "        text-align: right;\n",
       "    }\n",
       "</style>\n",
       "<table border=\"1\" class=\"dataframe\">\n",
       "  <thead>\n",
       "    <tr style=\"text-align: right;\">\n",
       "      <th></th>\n",
       "      <th>Customer_ID</th>\n",
       "      <th>Product</th>\n",
       "    </tr>\n",
       "  </thead>\n",
       "  <tbody>\n",
       "    <tr>\n",
       "      <th>0</th>\n",
       "      <td>C123</td>\n",
       "      <td>Widget</td>\n",
       "    </tr>\n",
       "    <tr>\n",
       "      <th>1</th>\n",
       "      <td>C456</td>\n",
       "      <td>Gadget</td>\n",
       "    </tr>\n",
       "    <tr>\n",
       "      <th>2</th>\n",
       "      <td>C789</td>\n",
       "      <td>Widget</td>\n",
       "    </tr>\n",
       "    <tr>\n",
       "      <th>3</th>\n",
       "      <td>C101</td>\n",
       "      <td>Doodad</td>\n",
       "    </tr>\n",
       "  </tbody>\n",
       "</table>\n",
       "</div>\n",
       "    <div class=\"colab-df-buttons\">\n",
       "\n",
       "  <div class=\"colab-df-container\">\n",
       "    <button class=\"colab-df-convert\" onclick=\"convertToInteractive('df-00f62873-c199-450d-9d2a-048d4e613380')\"\n",
       "            title=\"Convert this dataframe to an interactive table.\"\n",
       "            style=\"display:none;\">\n",
       "\n",
       "  <svg xmlns=\"http://www.w3.org/2000/svg\" height=\"24px\" viewBox=\"0 -960 960 960\">\n",
       "    <path d=\"M120-120v-720h720v720H120Zm60-500h600v-160H180v160Zm220 220h160v-160H400v160Zm0 220h160v-160H400v160ZM180-400h160v-160H180v160Zm440 0h160v-160H620v160ZM180-180h160v-160H180v160Zm440 0h160v-160H620v160Z\"/>\n",
       "  </svg>\n",
       "    </button>\n",
       "\n",
       "  <style>\n",
       "    .colab-df-container {\n",
       "      display:flex;\n",
       "      gap: 12px;\n",
       "    }\n",
       "\n",
       "    .colab-df-convert {\n",
       "      background-color: #E8F0FE;\n",
       "      border: none;\n",
       "      border-radius: 50%;\n",
       "      cursor: pointer;\n",
       "      display: none;\n",
       "      fill: #1967D2;\n",
       "      height: 32px;\n",
       "      padding: 0 0 0 0;\n",
       "      width: 32px;\n",
       "    }\n",
       "\n",
       "    .colab-df-convert:hover {\n",
       "      background-color: #E2EBFA;\n",
       "      box-shadow: 0px 1px 2px rgba(60, 64, 67, 0.3), 0px 1px 3px 1px rgba(60, 64, 67, 0.15);\n",
       "      fill: #174EA6;\n",
       "    }\n",
       "\n",
       "    .colab-df-buttons div {\n",
       "      margin-bottom: 4px;\n",
       "    }\n",
       "\n",
       "    [theme=dark] .colab-df-convert {\n",
       "      background-color: #3B4455;\n",
       "      fill: #D2E3FC;\n",
       "    }\n",
       "\n",
       "    [theme=dark] .colab-df-convert:hover {\n",
       "      background-color: #434B5C;\n",
       "      box-shadow: 0px 1px 3px 1px rgba(0, 0, 0, 0.15);\n",
       "      filter: drop-shadow(0px 1px 2px rgba(0, 0, 0, 0.3));\n",
       "      fill: #FFFFFF;\n",
       "    }\n",
       "  </style>\n",
       "\n",
       "    <script>\n",
       "      const buttonEl =\n",
       "        document.querySelector('#df-00f62873-c199-450d-9d2a-048d4e613380 button.colab-df-convert');\n",
       "      buttonEl.style.display =\n",
       "        google.colab.kernel.accessAllowed ? 'block' : 'none';\n",
       "\n",
       "      async function convertToInteractive(key) {\n",
       "        const element = document.querySelector('#df-00f62873-c199-450d-9d2a-048d4e613380');\n",
       "        const dataTable =\n",
       "          await google.colab.kernel.invokeFunction('convertToInteractive',\n",
       "                                                    [key], {});\n",
       "        if (!dataTable) return;\n",
       "\n",
       "        const docLinkHtml = 'Like what you see? Visit the ' +\n",
       "          '<a target=\"_blank\" href=https://colab.research.google.com/notebooks/data_table.ipynb>data table notebook</a>'\n",
       "          + ' to learn more about interactive tables.';\n",
       "        element.innerHTML = '';\n",
       "        dataTable['output_type'] = 'display_data';\n",
       "        await google.colab.output.renderOutput(dataTable, element);\n",
       "        const docLink = document.createElement('div');\n",
       "        docLink.innerHTML = docLinkHtml;\n",
       "        element.appendChild(docLink);\n",
       "      }\n",
       "    </script>\n",
       "  </div>\n",
       "\n",
       "\n",
       "<div id=\"df-3f6ccbec-1a78-4067-b89e-7511cc0a7f7a\">\n",
       "  <button class=\"colab-df-quickchart\" onclick=\"quickchart('df-3f6ccbec-1a78-4067-b89e-7511cc0a7f7a')\"\n",
       "            title=\"Suggest charts\"\n",
       "            style=\"display:none;\">\n",
       "\n",
       "<svg xmlns=\"http://www.w3.org/2000/svg\" height=\"24px\"viewBox=\"0 0 24 24\"\n",
       "     width=\"24px\">\n",
       "    <g>\n",
       "        <path d=\"M19 3H5c-1.1 0-2 .9-2 2v14c0 1.1.9 2 2 2h14c1.1 0 2-.9 2-2V5c0-1.1-.9-2-2-2zM9 17H7v-7h2v7zm4 0h-2V7h2v10zm4 0h-2v-4h2v4z\"/>\n",
       "    </g>\n",
       "</svg>\n",
       "  </button>\n",
       "\n",
       "<style>\n",
       "  .colab-df-quickchart {\n",
       "      --bg-color: #E8F0FE;\n",
       "      --fill-color: #1967D2;\n",
       "      --hover-bg-color: #E2EBFA;\n",
       "      --hover-fill-color: #174EA6;\n",
       "      --disabled-fill-color: #AAA;\n",
       "      --disabled-bg-color: #DDD;\n",
       "  }\n",
       "\n",
       "  [theme=dark] .colab-df-quickchart {\n",
       "      --bg-color: #3B4455;\n",
       "      --fill-color: #D2E3FC;\n",
       "      --hover-bg-color: #434B5C;\n",
       "      --hover-fill-color: #FFFFFF;\n",
       "      --disabled-bg-color: #3B4455;\n",
       "      --disabled-fill-color: #666;\n",
       "  }\n",
       "\n",
       "  .colab-df-quickchart {\n",
       "    background-color: var(--bg-color);\n",
       "    border: none;\n",
       "    border-radius: 50%;\n",
       "    cursor: pointer;\n",
       "    display: none;\n",
       "    fill: var(--fill-color);\n",
       "    height: 32px;\n",
       "    padding: 0;\n",
       "    width: 32px;\n",
       "  }\n",
       "\n",
       "  .colab-df-quickchart:hover {\n",
       "    background-color: var(--hover-bg-color);\n",
       "    box-shadow: 0 1px 2px rgba(60, 64, 67, 0.3), 0 1px 3px 1px rgba(60, 64, 67, 0.15);\n",
       "    fill: var(--button-hover-fill-color);\n",
       "  }\n",
       "\n",
       "  .colab-df-quickchart-complete:disabled,\n",
       "  .colab-df-quickchart-complete:disabled:hover {\n",
       "    background-color: var(--disabled-bg-color);\n",
       "    fill: var(--disabled-fill-color);\n",
       "    box-shadow: none;\n",
       "  }\n",
       "\n",
       "  .colab-df-spinner {\n",
       "    border: 2px solid var(--fill-color);\n",
       "    border-color: transparent;\n",
       "    border-bottom-color: var(--fill-color);\n",
       "    animation:\n",
       "      spin 1s steps(1) infinite;\n",
       "  }\n",
       "\n",
       "  @keyframes spin {\n",
       "    0% {\n",
       "      border-color: transparent;\n",
       "      border-bottom-color: var(--fill-color);\n",
       "      border-left-color: var(--fill-color);\n",
       "    }\n",
       "    20% {\n",
       "      border-color: transparent;\n",
       "      border-left-color: var(--fill-color);\n",
       "      border-top-color: var(--fill-color);\n",
       "    }\n",
       "    30% {\n",
       "      border-color: transparent;\n",
       "      border-left-color: var(--fill-color);\n",
       "      border-top-color: var(--fill-color);\n",
       "      border-right-color: var(--fill-color);\n",
       "    }\n",
       "    40% {\n",
       "      border-color: transparent;\n",
       "      border-right-color: var(--fill-color);\n",
       "      border-top-color: var(--fill-color);\n",
       "    }\n",
       "    60% {\n",
       "      border-color: transparent;\n",
       "      border-right-color: var(--fill-color);\n",
       "    }\n",
       "    80% {\n",
       "      border-color: transparent;\n",
       "      border-right-color: var(--fill-color);\n",
       "      border-bottom-color: var(--fill-color);\n",
       "    }\n",
       "    90% {\n",
       "      border-color: transparent;\n",
       "      border-bottom-color: var(--fill-color);\n",
       "    }\n",
       "  }\n",
       "</style>\n",
       "\n",
       "  <script>\n",
       "    async function quickchart(key) {\n",
       "      const quickchartButtonEl =\n",
       "        document.querySelector('#' + key + ' button');\n",
       "      quickchartButtonEl.disabled = true;  // To prevent multiple clicks.\n",
       "      quickchartButtonEl.classList.add('colab-df-spinner');\n",
       "      try {\n",
       "        const charts = await google.colab.kernel.invokeFunction(\n",
       "            'suggestCharts', [key], {});\n",
       "      } catch (error) {\n",
       "        console.error('Error during call to suggestCharts:', error);\n",
       "      }\n",
       "      quickchartButtonEl.classList.remove('colab-df-spinner');\n",
       "      quickchartButtonEl.classList.add('colab-df-quickchart-complete');\n",
       "    }\n",
       "    (() => {\n",
       "      let quickchartButtonEl =\n",
       "        document.querySelector('#df-3f6ccbec-1a78-4067-b89e-7511cc0a7f7a button');\n",
       "      quickchartButtonEl.style.display =\n",
       "        google.colab.kernel.accessAllowed ? 'block' : 'none';\n",
       "    })();\n",
       "  </script>\n",
       "</div>\n",
       "    </div>\n",
       "  </div>\n"
      ],
      "text/plain": [
       "  Customer_ID Product\n",
       "0        C123  Widget\n",
       "1        C456  Gadget\n",
       "2        C789  Widget\n",
       "3        C101  Doodad"
      ]
     },
     "metadata": {},
     "output_type": "display_data"
    },
    {
     "data": {
      "text/html": [
       "\n",
       "  <div id=\"df-a79ca61c-3162-4cfb-8763-ee9f26e7ab7b\" class=\"colab-df-container\">\n",
       "    <div>\n",
       "<style scoped>\n",
       "    .dataframe tbody tr th:only-of-type {\n",
       "        vertical-align: middle;\n",
       "    }\n",
       "\n",
       "    .dataframe tbody tr th {\n",
       "        vertical-align: top;\n",
       "    }\n",
       "\n",
       "    .dataframe thead th {\n",
       "        text-align: right;\n",
       "    }\n",
       "</style>\n",
       "<table border=\"1\" class=\"dataframe\">\n",
       "  <thead>\n",
       "    <tr style=\"text-align: right;\">\n",
       "      <th></th>\n",
       "      <th>Customer_ID</th>\n",
       "      <th>Product</th>\n",
       "      <th>Customer_Type</th>\n",
       "    </tr>\n",
       "  </thead>\n",
       "  <tbody>\n",
       "    <tr>\n",
       "      <th>0</th>\n",
       "      <td>C123</td>\n",
       "      <td>Widget</td>\n",
       "      <td>Type 123</td>\n",
       "    </tr>\n",
       "    <tr>\n",
       "      <th>1</th>\n",
       "      <td>C456</td>\n",
       "      <td>Gadget</td>\n",
       "      <td>Type 456</td>\n",
       "    </tr>\n",
       "    <tr>\n",
       "      <th>2</th>\n",
       "      <td>C789</td>\n",
       "      <td>Widget</td>\n",
       "      <td>Type 789</td>\n",
       "    </tr>\n",
       "    <tr>\n",
       "      <th>3</th>\n",
       "      <td>C101</td>\n",
       "      <td>Doodad</td>\n",
       "      <td>Type 101</td>\n",
       "    </tr>\n",
       "  </tbody>\n",
       "</table>\n",
       "</div>\n",
       "    <div class=\"colab-df-buttons\">\n",
       "\n",
       "  <div class=\"colab-df-container\">\n",
       "    <button class=\"colab-df-convert\" onclick=\"convertToInteractive('df-a79ca61c-3162-4cfb-8763-ee9f26e7ab7b')\"\n",
       "            title=\"Convert this dataframe to an interactive table.\"\n",
       "            style=\"display:none;\">\n",
       "\n",
       "  <svg xmlns=\"http://www.w3.org/2000/svg\" height=\"24px\" viewBox=\"0 -960 960 960\">\n",
       "    <path d=\"M120-120v-720h720v720H120Zm60-500h600v-160H180v160Zm220 220h160v-160H400v160Zm0 220h160v-160H400v160ZM180-400h160v-160H180v160Zm440 0h160v-160H620v160ZM180-180h160v-160H180v160Zm440 0h160v-160H620v160Z\"/>\n",
       "  </svg>\n",
       "    </button>\n",
       "\n",
       "  <style>\n",
       "    .colab-df-container {\n",
       "      display:flex;\n",
       "      gap: 12px;\n",
       "    }\n",
       "\n",
       "    .colab-df-convert {\n",
       "      background-color: #E8F0FE;\n",
       "      border: none;\n",
       "      border-radius: 50%;\n",
       "      cursor: pointer;\n",
       "      display: none;\n",
       "      fill: #1967D2;\n",
       "      height: 32px;\n",
       "      padding: 0 0 0 0;\n",
       "      width: 32px;\n",
       "    }\n",
       "\n",
       "    .colab-df-convert:hover {\n",
       "      background-color: #E2EBFA;\n",
       "      box-shadow: 0px 1px 2px rgba(60, 64, 67, 0.3), 0px 1px 3px 1px rgba(60, 64, 67, 0.15);\n",
       "      fill: #174EA6;\n",
       "    }\n",
       "\n",
       "    .colab-df-buttons div {\n",
       "      margin-bottom: 4px;\n",
       "    }\n",
       "\n",
       "    [theme=dark] .colab-df-convert {\n",
       "      background-color: #3B4455;\n",
       "      fill: #D2E3FC;\n",
       "    }\n",
       "\n",
       "    [theme=dark] .colab-df-convert:hover {\n",
       "      background-color: #434B5C;\n",
       "      box-shadow: 0px 1px 3px 1px rgba(0, 0, 0, 0.15);\n",
       "      filter: drop-shadow(0px 1px 2px rgba(0, 0, 0, 0.3));\n",
       "      fill: #FFFFFF;\n",
       "    }\n",
       "  </style>\n",
       "\n",
       "    <script>\n",
       "      const buttonEl =\n",
       "        document.querySelector('#df-a79ca61c-3162-4cfb-8763-ee9f26e7ab7b button.colab-df-convert');\n",
       "      buttonEl.style.display =\n",
       "        google.colab.kernel.accessAllowed ? 'block' : 'none';\n",
       "\n",
       "      async function convertToInteractive(key) {\n",
       "        const element = document.querySelector('#df-a79ca61c-3162-4cfb-8763-ee9f26e7ab7b');\n",
       "        const dataTable =\n",
       "          await google.colab.kernel.invokeFunction('convertToInteractive',\n",
       "                                                    [key], {});\n",
       "        if (!dataTable) return;\n",
       "\n",
       "        const docLinkHtml = 'Like what you see? Visit the ' +\n",
       "          '<a target=\"_blank\" href=https://colab.research.google.com/notebooks/data_table.ipynb>data table notebook</a>'\n",
       "          + ' to learn more about interactive tables.';\n",
       "        element.innerHTML = '';\n",
       "        dataTable['output_type'] = 'display_data';\n",
       "        await google.colab.output.renderOutput(dataTable, element);\n",
       "        const docLink = document.createElement('div');\n",
       "        docLink.innerHTML = docLinkHtml;\n",
       "        element.appendChild(docLink);\n",
       "      }\n",
       "    </script>\n",
       "  </div>\n",
       "\n",
       "\n",
       "<div id=\"df-ee3244be-fe82-43bb-8bc2-e1e173e7e9e8\">\n",
       "  <button class=\"colab-df-quickchart\" onclick=\"quickchart('df-ee3244be-fe82-43bb-8bc2-e1e173e7e9e8')\"\n",
       "            title=\"Suggest charts\"\n",
       "            style=\"display:none;\">\n",
       "\n",
       "<svg xmlns=\"http://www.w3.org/2000/svg\" height=\"24px\"viewBox=\"0 0 24 24\"\n",
       "     width=\"24px\">\n",
       "    <g>\n",
       "        <path d=\"M19 3H5c-1.1 0-2 .9-2 2v14c0 1.1.9 2 2 2h14c1.1 0 2-.9 2-2V5c0-1.1-.9-2-2-2zM9 17H7v-7h2v7zm4 0h-2V7h2v10zm4 0h-2v-4h2v4z\"/>\n",
       "    </g>\n",
       "</svg>\n",
       "  </button>\n",
       "\n",
       "<style>\n",
       "  .colab-df-quickchart {\n",
       "      --bg-color: #E8F0FE;\n",
       "      --fill-color: #1967D2;\n",
       "      --hover-bg-color: #E2EBFA;\n",
       "      --hover-fill-color: #174EA6;\n",
       "      --disabled-fill-color: #AAA;\n",
       "      --disabled-bg-color: #DDD;\n",
       "  }\n",
       "\n",
       "  [theme=dark] .colab-df-quickchart {\n",
       "      --bg-color: #3B4455;\n",
       "      --fill-color: #D2E3FC;\n",
       "      --hover-bg-color: #434B5C;\n",
       "      --hover-fill-color: #FFFFFF;\n",
       "      --disabled-bg-color: #3B4455;\n",
       "      --disabled-fill-color: #666;\n",
       "  }\n",
       "\n",
       "  .colab-df-quickchart {\n",
       "    background-color: var(--bg-color);\n",
       "    border: none;\n",
       "    border-radius: 50%;\n",
       "    cursor: pointer;\n",
       "    display: none;\n",
       "    fill: var(--fill-color);\n",
       "    height: 32px;\n",
       "    padding: 0;\n",
       "    width: 32px;\n",
       "  }\n",
       "\n",
       "  .colab-df-quickchart:hover {\n",
       "    background-color: var(--hover-bg-color);\n",
       "    box-shadow: 0 1px 2px rgba(60, 64, 67, 0.3), 0 1px 3px 1px rgba(60, 64, 67, 0.15);\n",
       "    fill: var(--button-hover-fill-color);\n",
       "  }\n",
       "\n",
       "  .colab-df-quickchart-complete:disabled,\n",
       "  .colab-df-quickchart-complete:disabled:hover {\n",
       "    background-color: var(--disabled-bg-color);\n",
       "    fill: var(--disabled-fill-color);\n",
       "    box-shadow: none;\n",
       "  }\n",
       "\n",
       "  .colab-df-spinner {\n",
       "    border: 2px solid var(--fill-color);\n",
       "    border-color: transparent;\n",
       "    border-bottom-color: var(--fill-color);\n",
       "    animation:\n",
       "      spin 1s steps(1) infinite;\n",
       "  }\n",
       "\n",
       "  @keyframes spin {\n",
       "    0% {\n",
       "      border-color: transparent;\n",
       "      border-bottom-color: var(--fill-color);\n",
       "      border-left-color: var(--fill-color);\n",
       "    }\n",
       "    20% {\n",
       "      border-color: transparent;\n",
       "      border-left-color: var(--fill-color);\n",
       "      border-top-color: var(--fill-color);\n",
       "    }\n",
       "    30% {\n",
       "      border-color: transparent;\n",
       "      border-left-color: var(--fill-color);\n",
       "      border-top-color: var(--fill-color);\n",
       "      border-right-color: var(--fill-color);\n",
       "    }\n",
       "    40% {\n",
       "      border-color: transparent;\n",
       "      border-right-color: var(--fill-color);\n",
       "      border-top-color: var(--fill-color);\n",
       "    }\n",
       "    60% {\n",
       "      border-color: transparent;\n",
       "      border-right-color: var(--fill-color);\n",
       "    }\n",
       "    80% {\n",
       "      border-color: transparent;\n",
       "      border-right-color: var(--fill-color);\n",
       "      border-bottom-color: var(--fill-color);\n",
       "    }\n",
       "    90% {\n",
       "      border-color: transparent;\n",
       "      border-bottom-color: var(--fill-color);\n",
       "    }\n",
       "  }\n",
       "</style>\n",
       "\n",
       "  <script>\n",
       "    async function quickchart(key) {\n",
       "      const quickchartButtonEl =\n",
       "        document.querySelector('#' + key + ' button');\n",
       "      quickchartButtonEl.disabled = true;  // To prevent multiple clicks.\n",
       "      quickchartButtonEl.classList.add('colab-df-spinner');\n",
       "      try {\n",
       "        const charts = await google.colab.kernel.invokeFunction(\n",
       "            'suggestCharts', [key], {});\n",
       "      } catch (error) {\n",
       "        console.error('Error during call to suggestCharts:', error);\n",
       "      }\n",
       "      quickchartButtonEl.classList.remove('colab-df-spinner');\n",
       "      quickchartButtonEl.classList.add('colab-df-quickchart-complete');\n",
       "    }\n",
       "    (() => {\n",
       "      let quickchartButtonEl =\n",
       "        document.querySelector('#df-ee3244be-fe82-43bb-8bc2-e1e173e7e9e8 button');\n",
       "      quickchartButtonEl.style.display =\n",
       "        google.colab.kernel.accessAllowed ? 'block' : 'none';\n",
       "    })();\n",
       "  </script>\n",
       "</div>\n",
       "    </div>\n",
       "  </div>\n"
      ],
      "text/plain": [
       "  Customer_ID Product Customer_Type\n",
       "0        C123  Widget      Type 123\n",
       "1        C456  Gadget      Type 456\n",
       "2        C789  Widget      Type 789\n",
       "3        C101  Doodad      Type 101"
      ]
     },
     "metadata": {},
     "output_type": "display_data"
    }
   ],
   "source": [
    "import pandas as pd\n",
    "\n",
    "# Create a sample DataFrame with customer IDs\n",
    "data = {'Customer_ID': ['C123', 'C456', 'C789', 'C101'],\n",
    "        'Product': ['Widget', 'Gadget', 'Widget', 'Doodad']}\n",
    "text_df = pd.DataFrame(data)\n",
    "\n",
    "# Show (before)\n",
    "display(text_df)\n",
    "\n",
    "# Applying the .replace() method using the .str accessor\n",
    "text_df['Customer_Type'] = text_df['Customer_ID'].str.replace('C', 'Type ')\n",
    "\n",
    "# Show (after)\n",
    "display(text_df)"
   ]
  },
  {
   "cell_type": "markdown",
   "metadata": {
    "id": "g4QF7rTYjmSa"
   },
   "source": [
    "## Acquiring Data from an API 🌐\n",
    "\n",
    "It is very simple to acquire data in python using the [requests library](https://requests.readthedocs.io/en/latest/) and we will show how using it, with a few simple lines of code, we can pull data from a web service (REST API).\n",
    "\n",
    "<center><img src=\"https://drive.google.com/uc?export=download&id=1Yu44Gw_DR1-khFPiQb3eVzZfSBy55lM2\"></center>\n",
    "\n",
    "[The Cocktail DB](https://www.thecocktaildb.com/) is an open source database of cocktails and drinks from around the world, and their ingredients. It also has an API that is free to use for educational purposes.\n",
    "\n",
    "Let's get some text data using the `requests` library, here a description of gin. The URL pattern for a given web service is up to its designer, and should be well documented. The Cocktail DB tells us to use the URL pattern `https://www.thecocktaildb.com/api/json/v1/1/search.php?i=<ingredient name>` in order to get information back on a drink ingredient.\n",
    "\n",
    "First, we import the requests library, then simply make a request using the `get` method and the URL:"
   ]
  },
  {
   "cell_type": "code",
   "execution_count": null,
   "metadata": {
    "id": "tdOoclo3xX1f"
   },
   "outputs": [],
   "source": [
    "# Import the requests library\n",
    "import requests\n",
    "\n",
    "# Make a call to the API\n",
    "r = requests.get(\"https://www.thecocktaildb.com/api/json/v1/1/search.php?i=gin\")"
   ]
  },
  {
   "cell_type": "markdown",
   "metadata": {
    "id": "ZBSo4voNjmSa"
   },
   "source": [
    "Let's check what was returned from our request. There are two ways to do this: the most straightforward is just to return using the `.text` attribute, which shows the contents of the response as an ordinary python string:"
   ]
  },
  {
   "cell_type": "code",
   "execution_count": null,
   "metadata": {
    "colab": {
     "base_uri": "https://localhost:8080/",
     "height": 179
    },
    "id": "Zvs8PgFuxix5",
    "outputId": "f0c2bb74-4e2d-4717-b75f-1363ccdda274"
   },
   "outputs": [
    {
     "data": {
      "application/vnd.google.colaboratory.intrinsic+json": {
       "type": "string"
      },
      "text/plain": [
       "'{\"ingredients\":[{\"idIngredient\":\"2\",\"strIngredient\":\"Gin\",\"strDescription\":\"Gin is a distilled alcoholic drink that derives its predominant flavour from juniper berries (Juniperus communis). Gin is one of the broadest categories of spirits, all of various origins, styles, and flavour profiles, that revolve around juniper as a common ingredient.\\\\r\\\\n\\\\r\\\\nFrom its earliest origins in the Middle Ages, the drink has evolved from a herbal medicine to an object of commerce in the spirits industry. Gin emerged in England after the introduction of the jenever, a Dutch liquor which originally had been a medicine. Although this development had been taking place since early 17th century, gin became widespread after the William of Orange-led 1688 Glorious Revolution and subsequent import restrictions on French brandy.\\\\r\\\\n\\\\r\\\\nGin today is produced in subtly different ways, from a wide range of herbal ingredients, giving rise to a number of distinct styles and brands. After juniper, gin tends to be flavoured with botanical\\\\/herbal, spice, floral or fruit-flavours or often a combination. It is most commonly consumed mixed with tonic water. Gin is also often used as a base spirit to produce flavoured gin-based liqueurs such as, for example, Sloe gin, traditionally by the addition of fruit, flavourings and sugar.\",\"strType\":\"Gin\",\"strAlcohol\":\"Yes\",\"strABV\":\"40\"}]}'"
      ]
     },
     "execution_count": 14,
     "metadata": {},
     "output_type": "execute_result"
    }
   ],
   "source": [
    "# What are the contents\n",
    "r.text"
   ]
  },
  {
   "cell_type": "markdown",
   "metadata": {
    "id": "5QCcwOgXjmSb"
   },
   "source": [
    "We can see there is some nesting of data here, as the response is actually returned in [Javascript Object Notation (JSON) format ](https://en.wikipedia.org/wiki/JSON), or what someone who works in python might instead call a [dictionary](https://docs.python.org/3/tutorial/datastructures.html#dictionaries). We can see the resposne in JSON format as well using `.json` method of the response object:"
   ]
  },
  {
   "cell_type": "code",
   "execution_count": null,
   "metadata": {
    "colab": {
     "base_uri": "https://localhost:8080/"
    },
    "id": "6LamGPIxxlFi",
    "outputId": "669f6d65-78c3-4521-d53c-a03b73427f20"
   },
   "outputs": [
    {
     "data": {
      "text/plain": [
       "{'ingredients': [{'idIngredient': '2',\n",
       "   'strIngredient': 'Gin',\n",
       "   'strDescription': 'Gin is a distilled alcoholic drink that derives its predominant flavour from juniper berries (Juniperus communis). Gin is one of the broadest categories of spirits, all of various origins, styles, and flavour profiles, that revolve around juniper as a common ingredient.\\r\\n\\r\\nFrom its earliest origins in the Middle Ages, the drink has evolved from a herbal medicine to an object of commerce in the spirits industry. Gin emerged in England after the introduction of the jenever, a Dutch liquor which originally had been a medicine. Although this development had been taking place since early 17th century, gin became widespread after the William of Orange-led 1688 Glorious Revolution and subsequent import restrictions on French brandy.\\r\\n\\r\\nGin today is produced in subtly different ways, from a wide range of herbal ingredients, giving rise to a number of distinct styles and brands. After juniper, gin tends to be flavoured with botanical/herbal, spice, floral or fruit-flavours or often a combination. It is most commonly consumed mixed with tonic water. Gin is also often used as a base spirit to produce flavoured gin-based liqueurs such as, for example, Sloe gin, traditionally by the addition of fruit, flavourings and sugar.',\n",
       "   'strType': 'Gin',\n",
       "   'strAlcohol': 'Yes',\n",
       "   'strABV': '40'}]}"
      ]
     },
     "execution_count": 15,
     "metadata": {},
     "output_type": "execute_result"
    }
   ],
   "source": [
    "# Convert to JSON and dict\n",
    "r.json()"
   ]
  },
  {
   "cell_type": "markdown",
   "metadata": {
    "id": "FahWz9nfjmSc"
   },
   "source": [
    "Now to pull out the description, it is a matter of subsetting the returned list associated with the `ingredients` key (there is only one element, element 0) and the getting the value associated with the `strDescription` key within it. We will use the `Markdown` class from `iPython` to display the returned next nicely and render it as markdown:"
   ]
  },
  {
   "cell_type": "code",
   "execution_count": null,
   "metadata": {
    "colab": {
     "base_uri": "https://localhost:8080/",
     "height": 233
    },
    "id": "-12GMPg-jmSc",
    "outputId": "4cb98ce8-ea16-40b7-b24c-ab7df9987799"
   },
   "outputs": [
    {
     "data": {
      "text/markdown": [
       "---"
      ],
      "text/plain": [
       "<IPython.core.display.Markdown object>"
      ]
     },
     "metadata": {},
     "output_type": "display_data"
    },
    {
     "data": {
      "text/markdown": [
       "Gin is a distilled alcoholic drink that derives its predominant flavour from juniper berries (Juniperus communis). Gin is one of the broadest categories of spirits, all of various origins, styles, and flavour profiles, that revolve around juniper as a common ingredient.\r\n",
       "\r\n",
       "From its earliest origins in the Middle Ages, the drink has evolved from a herbal medicine to an object of commerce in the spirits industry. Gin emerged in England after the introduction of the jenever, a Dutch liquor which originally had been a medicine. Although this development had been taking place since early 17th century, gin became widespread after the William of Orange-led 1688 Glorious Revolution and subsequent import restrictions on French brandy.\r\n",
       "\r\n",
       "Gin today is produced in subtly different ways, from a wide range of herbal ingredients, giving rise to a number of distinct styles and brands. After juniper, gin tends to be flavoured with botanical/herbal, spice, floral or fruit-flavours or often a combination. It is most commonly consumed mixed with tonic water. Gin is also often used as a base spirit to produce flavoured gin-based liqueurs such as, for example, Sloe gin, traditionally by the addition of fruit, flavourings and sugar."
      ],
      "text/plain": [
       "<IPython.core.display.Markdown object>"
      ]
     },
     "metadata": {},
     "output_type": "display_data"
    },
    {
     "data": {
      "text/markdown": [
       "---"
      ],
      "text/plain": [
       "<IPython.core.display.Markdown object>"
      ]
     },
     "metadata": {},
     "output_type": "display_data"
    }
   ],
   "source": [
    "from IPython.display import Markdown\n",
    "\n",
    "description = r.json()['ingredients'][0]['strDescription']\n",
    "\n",
    "# Display in markdown\n",
    "display(Markdown(\"---\"))\n",
    "display(Markdown(description))\n",
    "display(Markdown(\"---\"))"
   ]
  },
  {
   "cell_type": "markdown",
   "metadata": {
    "id": "mFWbDy6WjmSc"
   },
   "source": [
    "Great! We have sucessfully retrieved some text from an API using `requests`. We could write more code to return more data programatically and stored in a data structure such as a list or pandas dataframe to work with in an NLP task:"
   ]
  },
  {
   "cell_type": "code",
   "execution_count": null,
   "metadata": {
    "id": "2-bkPupMjmSc"
   },
   "outputs": [],
   "source": [
    "# List of ingredients for building request URLs\n",
    "ingredients = ['gin', 'vodka', 'rum']\n",
    "\n",
    "# Empty list to hold descriptions returned from API\n",
    "description_list = list()\n",
    "\n",
    "# Iterate over the ingredients\n",
    "for ingredient in ingredients:\n",
    "\n",
    "    # Make a call to the API\n",
    "    r = requests.get(f\"https://www.thecocktaildb.com/api/json/v1/1/search.php?i={ingredient}\")\n",
    "\n",
    "    # Pull out the description and append to the list\n",
    "    description = r.json()['ingredients'][0]['strDescription']\n",
    "    description_list.append({'ingredient':ingredient, 'description':description})"
   ]
  },
  {
   "cell_type": "markdown",
   "metadata": {
    "id": "bebWYvOLjmSd"
   },
   "source": [
    "Now we have a list storing the description field from data returned from the API calls:"
   ]
  },
  {
   "cell_type": "code",
   "execution_count": null,
   "metadata": {
    "colab": {
     "base_uri": "https://localhost:8080/"
    },
    "id": "W-1TZ6sTjmSd",
    "outputId": "3cc3c0f5-3fc6-4edf-d9b0-ed74ae2a7df7",
    "scrolled": true
   },
   "outputs": [
    {
     "data": {
      "text/plain": [
       "[{'ingredient': 'gin',\n",
       "  'description': 'Gin is a distilled alcoholic drink that derives its predominant flavour from juniper berries (Juniperus communis). Gin is one of the broadest categories of spirits, all of various origins, styles, and flavour profiles, that revolve around juniper as a common ingredient.\\r\\n\\r\\nFrom its earliest origins in the Middle Ages, the drink has evolved from a herbal medicine to an object of commerce in the spirits industry. Gin emerged in England after the introduction of the jenever, a Dutch liquor which originally had been a medicine. Although this development had been taking place since early 17th century, gin became widespread after the William of Orange-led 1688 Glorious Revolution and subsequent import restrictions on French brandy.\\r\\n\\r\\nGin today is produced in subtly different ways, from a wide range of herbal ingredients, giving rise to a number of distinct styles and brands. After juniper, gin tends to be flavoured with botanical/herbal, spice, floral or fruit-flavours or often a combination. It is most commonly consumed mixed with tonic water. Gin is also often used as a base spirit to produce flavoured gin-based liqueurs such as, for example, Sloe gin, traditionally by the addition of fruit, flavourings and sugar.'},\n",
       " {'ingredient': 'vodka',\n",
       "  'description': 'Vodka is a distilled beverage composed primarily of water and ethanol, sometimes with traces of impurities and flavorings. Traditionally, vodka is made by the distillation of fermented cereal grains or potatoes, though some modern brands use other substances, such as fruits or sugar.\\r\\n\\r\\nSince the 1890s, the standard Polish, Russian, Belarusian, Ukrainian, Estonian, Latvian, Lithuanian and Czech vodkas are 40% alcohol by volume ABV (80 US proof), a percentage that is widely misattributed to Dmitri Mendeleev. The European Union has established a minimum of 37.5% ABV for any \"European vodka\" to be named as such. Products sold as \"vodka\" in the United States must have a minimum alcohol content of 40%. Even with these loose restrictions, most vodka sold contains 40% ABV. For homemade vodkas and distilled beverages referred to as \"moonshine\", see moonshine by country.\\r\\n\\r\\nVodka is traditionally drunk neat (not mixed with any water, ice, or other mixer), though it is often served chilled in the vodka belt countries (Belarus, Estonia, Finland, Iceland, Latvia, Lithuania, Norway, Poland, Russia, Sweden, Ukraine). It is also commonly used in cocktails and mixed drinks, such as the vodka martini, Cosmopolitan, vodka tonic, Screwdriver, Greyhound, Black or White Russian, Moscow Mule, and Bloody Mary.\\r\\n\\r\\nScholars debate the beginnings of vodka. It is a contentious issue because very little historical material is available. For many centuries, beverages differed significantly compared to the vodka of today, as the spirit at that time had a different flavor, color and smell, and was originally used as medicine. It contained little alcohol, an estimated maximum of about 14%, as only this amount can be attained by natural fermentation. The still, allowing for distillation (\"burning of wine\"), increased purity, and increased alcohol content, was invented in the 8th century.\\r\\n\\r\\nA common property of the vodkas produced in the United States and Europe is the extensive use of filtration prior to any additional processing including the addition of flavorants. Filtering is sometimes done in the still during distillation, as well as afterwards, where the distilled vodka is filtered through activated charcoal and other media to absorb trace amounts of substances that alter or impart off-flavors to the vodka. However, this is not the case in the traditional vodka-producing nations, so many distillers from these countries prefer to use very accurate distillation but minimal filtering, thus preserving the unique flavors and characteristics of their products.\\r\\n\\r\\nThe master distiller is in charge of distilling the vodka and directing its filtration, which includes the removal of the \"fore-shots\", \"heads\" and \"tails\". These components of the distillate contain flavor compounds such as ethyl acetate and ethyl lactate (heads) as well as the fusel oils (tails) that impact the usually desired clean taste of vodka. Through numerous rounds of distillation, or the use of a fractioning still, the taste is modified and clarity is increased. In contrast, distillery process for liquors such as whiskey, rum, and baijiu allow portions of the \"heads\" and \"tails\" to remain, giving them their unique flavors.\\r\\n\\r\\nRepeated distillation of vodka will make its ethanol level much higher than is acceptable to most end users, whether legislation determines strength limits or not. Depending on the distillation method and the technique of the stillmaster, the final filtered and distilled vodka may have as much as 95–96% ethanol. As such, most vodka is diluted with water prior to bottling.\\r\\n\\r\\nPolish distilleries make a very pure (96%, 192 proof, formerly also 98%) rectified spirit (Polish language: spirytus rektyfikowany). Technically a form of vodka, it is sold in liquor stores rather than pharmacies. Similarly, the German market often carries German, Hungarian, Polish, and Ukrainian-made varieties of vodka of 90 to 95% ABV. A Bulgarian vodka, Balkan 176°, has an 88% alcohol content. Everclear, an American brand, is also sold at 95% ABV.'},\n",
       " {'ingredient': 'rum',\n",
       "  'description': 'Rum is a distilled alcoholic beverage made from sugarcane byproducts, such as molasses, or directly from sugarcane juice, by a process of fermentation and distillation. The distillate, a clear liquid, is then usually aged in oak barrels.\\r\\n\\r\\nThe majority of the world\\'s rum production occurs in the Caribbean and Latin America. Rum is also produced in Scotland, Austria, Spain, Australia, New Zealand, Fiji, the Philippines, India, Reunion Island, Mauritius, South Africa, Taiwan, Thailand, Japan, the United States, and Canada.\\r\\n\\r\\nRums are produced in various grades. Light rums are commonly used in cocktails, whereas \"golden\" and \"dark\" rums were typically consumed straight or neat, on the rocks, or used for cooking, but are now commonly consumed with mixers. Premium rums are also available, made to be consumed either straight or iced.\\r\\n\\r\\nRum plays a part in the culture of most islands of the West Indies as well as in The Maritimes and Newfoundland. This beverage has famous associations with the Royal Navy (where it was mixed with water or beer to make grog) and piracy (where it was consumed as bumbo). Rum has also served as a popular medium of economic exchange, used to help fund enterprises such as slavery (see Triangular trade), organized crime, and military insurgencies (e.g., the American Revolution and Australia\\'s Rum Rebellion).\\r\\n\\r\\nThe precursors to rum date back to antiquity. Development of fermented drinks produced from sugarcane juice is believed to have first occurred either in ancient India or in China, and to have spread from there. An example of such an early drink is brum. Produced by the Malay people, brum dates back thousands of years. Marco Polo also recorded a 14th-century account of a \"very good wine of sugar\" that was offered to him in the area that became modern-day Iran.\\r\\n\\r\\nThe first distillation of rum took place on the sugarcane plantations of the Caribbean in the 17th century. Plantation slaves first discovered molasses, a byproduct of the sugar refining process, could be fermented into alcohol. Later, distillation of these alcoholic byproducts concentrated the alcohol and removed impurities, producing the first true rums. Tradition suggests rum first originated on the island of Barbados. However, in the decade of the 1620s, rum production was recorded in Brazil. A liquid identified as rum has been found in a tin bottle found on the Swedish warship Vasa, which sank in 1628.\\r\\n\\r\\nA 1651 document from Barbados stated, \"The chief fuddling they make in the island is Rumbullion, alias Kill-Divil, and thi is made of sugar canes distilled, a hot, hellish, and terrible liquor.\"'}]"
      ]
     },
     "execution_count": 18,
     "metadata": {},
     "output_type": "execute_result"
    }
   ],
   "source": [
    "description_list"
   ]
  },
  {
   "cell_type": "markdown",
   "metadata": {
    "id": "DSOS0WUJjmSd"
   },
   "source": [
    "Finally, we can plunk this into a [pandas dataframe](https://pandas.pydata.org/docs/reference/api/pandas.DataFrame.html) to make things a bit nicer. Pandas plays nicely with data stored in dictionaries, so all we need to do is pass the returned JSON to `pd.DataFrame`. Nice!"
   ]
  },
  {
   "cell_type": "code",
   "execution_count": null,
   "metadata": {
    "colab": {
     "base_uri": "https://localhost:8080/",
     "height": 143
    },
    "id": "S-rP_gVcjmSd",
    "outputId": "63dc4743-8d8e-4f9f-fa8c-2741873c1d9a"
   },
   "outputs": [
    {
     "data": {
      "text/html": [
       "\n",
       "  <div id=\"df-84a2643b-3055-4b52-89f4-7038e8e01efb\" class=\"colab-df-container\">\n",
       "    <div>\n",
       "<style scoped>\n",
       "    .dataframe tbody tr th:only-of-type {\n",
       "        vertical-align: middle;\n",
       "    }\n",
       "\n",
       "    .dataframe tbody tr th {\n",
       "        vertical-align: top;\n",
       "    }\n",
       "\n",
       "    .dataframe thead th {\n",
       "        text-align: right;\n",
       "    }\n",
       "</style>\n",
       "<table border=\"1\" class=\"dataframe\">\n",
       "  <thead>\n",
       "    <tr style=\"text-align: right;\">\n",
       "      <th></th>\n",
       "      <th>ingredient</th>\n",
       "      <th>description</th>\n",
       "    </tr>\n",
       "  </thead>\n",
       "  <tbody>\n",
       "    <tr>\n",
       "      <th>0</th>\n",
       "      <td>gin</td>\n",
       "      <td>Gin is a distilled alcoholic drink that derive...</td>\n",
       "    </tr>\n",
       "    <tr>\n",
       "      <th>1</th>\n",
       "      <td>vodka</td>\n",
       "      <td>Vodka is a distilled beverage composed primari...</td>\n",
       "    </tr>\n",
       "    <tr>\n",
       "      <th>2</th>\n",
       "      <td>rum</td>\n",
       "      <td>Rum is a distilled alcoholic beverage made fro...</td>\n",
       "    </tr>\n",
       "  </tbody>\n",
       "</table>\n",
       "</div>\n",
       "    <div class=\"colab-df-buttons\">\n",
       "\n",
       "  <div class=\"colab-df-container\">\n",
       "    <button class=\"colab-df-convert\" onclick=\"convertToInteractive('df-84a2643b-3055-4b52-89f4-7038e8e01efb')\"\n",
       "            title=\"Convert this dataframe to an interactive table.\"\n",
       "            style=\"display:none;\">\n",
       "\n",
       "  <svg xmlns=\"http://www.w3.org/2000/svg\" height=\"24px\" viewBox=\"0 -960 960 960\">\n",
       "    <path d=\"M120-120v-720h720v720H120Zm60-500h600v-160H180v160Zm220 220h160v-160H400v160Zm0 220h160v-160H400v160ZM180-400h160v-160H180v160Zm440 0h160v-160H620v160ZM180-180h160v-160H180v160Zm440 0h160v-160H620v160Z\"/>\n",
       "  </svg>\n",
       "    </button>\n",
       "\n",
       "  <style>\n",
       "    .colab-df-container {\n",
       "      display:flex;\n",
       "      gap: 12px;\n",
       "    }\n",
       "\n",
       "    .colab-df-convert {\n",
       "      background-color: #E8F0FE;\n",
       "      border: none;\n",
       "      border-radius: 50%;\n",
       "      cursor: pointer;\n",
       "      display: none;\n",
       "      fill: #1967D2;\n",
       "      height: 32px;\n",
       "      padding: 0 0 0 0;\n",
       "      width: 32px;\n",
       "    }\n",
       "\n",
       "    .colab-df-convert:hover {\n",
       "      background-color: #E2EBFA;\n",
       "      box-shadow: 0px 1px 2px rgba(60, 64, 67, 0.3), 0px 1px 3px 1px rgba(60, 64, 67, 0.15);\n",
       "      fill: #174EA6;\n",
       "    }\n",
       "\n",
       "    .colab-df-buttons div {\n",
       "      margin-bottom: 4px;\n",
       "    }\n",
       "\n",
       "    [theme=dark] .colab-df-convert {\n",
       "      background-color: #3B4455;\n",
       "      fill: #D2E3FC;\n",
       "    }\n",
       "\n",
       "    [theme=dark] .colab-df-convert:hover {\n",
       "      background-color: #434B5C;\n",
       "      box-shadow: 0px 1px 3px 1px rgba(0, 0, 0, 0.15);\n",
       "      filter: drop-shadow(0px 1px 2px rgba(0, 0, 0, 0.3));\n",
       "      fill: #FFFFFF;\n",
       "    }\n",
       "  </style>\n",
       "\n",
       "    <script>\n",
       "      const buttonEl =\n",
       "        document.querySelector('#df-84a2643b-3055-4b52-89f4-7038e8e01efb button.colab-df-convert');\n",
       "      buttonEl.style.display =\n",
       "        google.colab.kernel.accessAllowed ? 'block' : 'none';\n",
       "\n",
       "      async function convertToInteractive(key) {\n",
       "        const element = document.querySelector('#df-84a2643b-3055-4b52-89f4-7038e8e01efb');\n",
       "        const dataTable =\n",
       "          await google.colab.kernel.invokeFunction('convertToInteractive',\n",
       "                                                    [key], {});\n",
       "        if (!dataTable) return;\n",
       "\n",
       "        const docLinkHtml = 'Like what you see? Visit the ' +\n",
       "          '<a target=\"_blank\" href=https://colab.research.google.com/notebooks/data_table.ipynb>data table notebook</a>'\n",
       "          + ' to learn more about interactive tables.';\n",
       "        element.innerHTML = '';\n",
       "        dataTable['output_type'] = 'display_data';\n",
       "        await google.colab.output.renderOutput(dataTable, element);\n",
       "        const docLink = document.createElement('div');\n",
       "        docLink.innerHTML = docLinkHtml;\n",
       "        element.appendChild(docLink);\n",
       "      }\n",
       "    </script>\n",
       "  </div>\n",
       "\n",
       "\n",
       "<div id=\"df-694b3729-674b-458f-8a6a-d0b9e9b15384\">\n",
       "  <button class=\"colab-df-quickchart\" onclick=\"quickchart('df-694b3729-674b-458f-8a6a-d0b9e9b15384')\"\n",
       "            title=\"Suggest charts\"\n",
       "            style=\"display:none;\">\n",
       "\n",
       "<svg xmlns=\"http://www.w3.org/2000/svg\" height=\"24px\"viewBox=\"0 0 24 24\"\n",
       "     width=\"24px\">\n",
       "    <g>\n",
       "        <path d=\"M19 3H5c-1.1 0-2 .9-2 2v14c0 1.1.9 2 2 2h14c1.1 0 2-.9 2-2V5c0-1.1-.9-2-2-2zM9 17H7v-7h2v7zm4 0h-2V7h2v10zm4 0h-2v-4h2v4z\"/>\n",
       "    </g>\n",
       "</svg>\n",
       "  </button>\n",
       "\n",
       "<style>\n",
       "  .colab-df-quickchart {\n",
       "      --bg-color: #E8F0FE;\n",
       "      --fill-color: #1967D2;\n",
       "      --hover-bg-color: #E2EBFA;\n",
       "      --hover-fill-color: #174EA6;\n",
       "      --disabled-fill-color: #AAA;\n",
       "      --disabled-bg-color: #DDD;\n",
       "  }\n",
       "\n",
       "  [theme=dark] .colab-df-quickchart {\n",
       "      --bg-color: #3B4455;\n",
       "      --fill-color: #D2E3FC;\n",
       "      --hover-bg-color: #434B5C;\n",
       "      --hover-fill-color: #FFFFFF;\n",
       "      --disabled-bg-color: #3B4455;\n",
       "      --disabled-fill-color: #666;\n",
       "  }\n",
       "\n",
       "  .colab-df-quickchart {\n",
       "    background-color: var(--bg-color);\n",
       "    border: none;\n",
       "    border-radius: 50%;\n",
       "    cursor: pointer;\n",
       "    display: none;\n",
       "    fill: var(--fill-color);\n",
       "    height: 32px;\n",
       "    padding: 0;\n",
       "    width: 32px;\n",
       "  }\n",
       "\n",
       "  .colab-df-quickchart:hover {\n",
       "    background-color: var(--hover-bg-color);\n",
       "    box-shadow: 0 1px 2px rgba(60, 64, 67, 0.3), 0 1px 3px 1px rgba(60, 64, 67, 0.15);\n",
       "    fill: var(--button-hover-fill-color);\n",
       "  }\n",
       "\n",
       "  .colab-df-quickchart-complete:disabled,\n",
       "  .colab-df-quickchart-complete:disabled:hover {\n",
       "    background-color: var(--disabled-bg-color);\n",
       "    fill: var(--disabled-fill-color);\n",
       "    box-shadow: none;\n",
       "  }\n",
       "\n",
       "  .colab-df-spinner {\n",
       "    border: 2px solid var(--fill-color);\n",
       "    border-color: transparent;\n",
       "    border-bottom-color: var(--fill-color);\n",
       "    animation:\n",
       "      spin 1s steps(1) infinite;\n",
       "  }\n",
       "\n",
       "  @keyframes spin {\n",
       "    0% {\n",
       "      border-color: transparent;\n",
       "      border-bottom-color: var(--fill-color);\n",
       "      border-left-color: var(--fill-color);\n",
       "    }\n",
       "    20% {\n",
       "      border-color: transparent;\n",
       "      border-left-color: var(--fill-color);\n",
       "      border-top-color: var(--fill-color);\n",
       "    }\n",
       "    30% {\n",
       "      border-color: transparent;\n",
       "      border-left-color: var(--fill-color);\n",
       "      border-top-color: var(--fill-color);\n",
       "      border-right-color: var(--fill-color);\n",
       "    }\n",
       "    40% {\n",
       "      border-color: transparent;\n",
       "      border-right-color: var(--fill-color);\n",
       "      border-top-color: var(--fill-color);\n",
       "    }\n",
       "    60% {\n",
       "      border-color: transparent;\n",
       "      border-right-color: var(--fill-color);\n",
       "    }\n",
       "    80% {\n",
       "      border-color: transparent;\n",
       "      border-right-color: var(--fill-color);\n",
       "      border-bottom-color: var(--fill-color);\n",
       "    }\n",
       "    90% {\n",
       "      border-color: transparent;\n",
       "      border-bottom-color: var(--fill-color);\n",
       "    }\n",
       "  }\n",
       "</style>\n",
       "\n",
       "  <script>\n",
       "    async function quickchart(key) {\n",
       "      const quickchartButtonEl =\n",
       "        document.querySelector('#' + key + ' button');\n",
       "      quickchartButtonEl.disabled = true;  // To prevent multiple clicks.\n",
       "      quickchartButtonEl.classList.add('colab-df-spinner');\n",
       "      try {\n",
       "        const charts = await google.colab.kernel.invokeFunction(\n",
       "            'suggestCharts', [key], {});\n",
       "      } catch (error) {\n",
       "        console.error('Error during call to suggestCharts:', error);\n",
       "      }\n",
       "      quickchartButtonEl.classList.remove('colab-df-spinner');\n",
       "      quickchartButtonEl.classList.add('colab-df-quickchart-complete');\n",
       "    }\n",
       "    (() => {\n",
       "      let quickchartButtonEl =\n",
       "        document.querySelector('#df-694b3729-674b-458f-8a6a-d0b9e9b15384 button');\n",
       "      quickchartButtonEl.style.display =\n",
       "        google.colab.kernel.accessAllowed ? 'block' : 'none';\n",
       "    })();\n",
       "  </script>\n",
       "</div>\n",
       "    </div>\n",
       "  </div>\n"
      ],
      "text/plain": [
       "  ingredient                                        description\n",
       "0        gin  Gin is a distilled alcoholic drink that derive...\n",
       "1      vodka  Vodka is a distilled beverage composed primari...\n",
       "2        rum  Rum is a distilled alcoholic beverage made fro..."
      ]
     },
     "execution_count": 19,
     "metadata": {},
     "output_type": "execute_result"
    }
   ],
   "source": [
    "# Check ouput\n",
    "import pandas as pd\n",
    "\n",
    "# Create a pandas dataframe from the list of key-value pairs\n",
    "# Keys are the column name, values are the values for each row\n",
    "desc_df = pd.DataFrame(description_list)\n",
    "\n",
    "# Check\n",
    "desc_df.head()"
   ]
  },
  {
   "cell_type": "markdown",
   "metadata": {
    "id": "aZVkN7ZSjmSe"
   },
   "source": [
    "### Web Scraping with Pandas 🐼\n",
    "\n",
    "[Web scraping](https://en.wikipedia.org/wiki/Web_scraping) refers to programmatically extracting data from web sites. Many times, the information we want may be \"locked up\" in a website intended to be viewed through a web browser, and we can extract it in an automated way using code.\n",
    "\n",
    "<center><img src=\"https://drive.google.com/uc?export=download&id=1Z-na_aHnbos2AseN1SL3QY_6OqCnuIXp\"></center>\n",
    "\n",
    "If the data in a website is contained in a table, web scraping is as easy as calling `pd.read_html` on the HTML code, which will scrape all tables on the page and return their contents as a list.\n",
    "\n",
    "For this example, we will be collecting weather data for the current forecast for the city of Toronto from the [Environment Canada](https://weather.gc.ca/city/pages/on-143_metric_e.html) website.\n",
    "\n",
    "Here we will first get the page code using `requests`, then read the table using pandas:"
   ]
  },
  {
   "cell_type": "code",
   "execution_count": null,
   "metadata": {
    "id": "_5KHlpaDjmSe"
   },
   "outputs": [],
   "source": [
    "# Get the page code by requesting the web site\n",
    "# Here we are hitting the weather for Toronto, Ontario from Government of Canada website\n",
    "r = requests.get('https://weather.gc.ca/city/pages/on-143_metric_e.html')\n",
    "\n",
    "# Read the tables from the page code\n",
    "tables = pd.read_html(r.text)"
   ]
  },
  {
   "cell_type": "markdown",
   "metadata": {
    "id": "g7dOoXCpjmSe"
   },
   "source": [
    "We can see that pandas has returned a list of tables:"
   ]
  },
  {
   "cell_type": "code",
   "execution_count": null,
   "metadata": {
    "colab": {
     "base_uri": "https://localhost:8080/"
    },
    "id": "eNp0IvszjmSn",
    "outputId": "4767acd7-afcb-4bf7-86f0-ba5bc37c0283"
   },
   "outputs": [
    {
     "data": {
      "text/plain": [
       "list"
      ]
     },
     "execution_count": 21,
     "metadata": {},
     "output_type": "execute_result"
    }
   ],
   "source": [
    "type(tables)"
   ]
  },
  {
   "cell_type": "markdown",
   "metadata": {
    "id": "OsY4fyrojmSo"
   },
   "source": [
    "And that there are actually two tables in the page:"
   ]
  },
  {
   "cell_type": "code",
   "execution_count": null,
   "metadata": {
    "colab": {
     "base_uri": "https://localhost:8080/"
    },
    "id": "rqkd_QHrjmSo",
    "outputId": "2a65cf95-fc05-4dac-e70b-5c789ca27518"
   },
   "outputs": [
    {
     "data": {
      "text/plain": [
       "2"
      ]
     },
     "execution_count": 22,
     "metadata": {},
     "output_type": "execute_result"
    }
   ],
   "source": [
    "len(tables)"
   ]
  },
  {
   "cell_type": "markdown",
   "metadata": {
    "id": "WM0tt3AbjmSo"
   },
   "source": [
    "Let's take a look at the first element in the list. Pandas scrapes conveniently scrapes each table in the page into a dataframe:"
   ]
  },
  {
   "cell_type": "code",
   "execution_count": null,
   "metadata": {
    "colab": {
     "base_uri": "https://localhost:8080/",
     "height": 425
    },
    "id": "mLRZbmVhjmSo",
    "outputId": "610f2927-853e-4b4b-d0b7-1f313e7f155b"
   },
   "outputs": [
    {
     "data": {
      "text/html": [
       "\n",
       "  <div id=\"df-deafaf15-d2a8-4a29-8181-b8853a72f6d3\" class=\"colab-df-container\">\n",
       "    <div>\n",
       "<style scoped>\n",
       "    .dataframe tbody tr th:only-of-type {\n",
       "        vertical-align: middle;\n",
       "    }\n",
       "\n",
       "    .dataframe tbody tr th {\n",
       "        vertical-align: top;\n",
       "    }\n",
       "\n",
       "    .dataframe thead th {\n",
       "        text-align: right;\n",
       "    }\n",
       "</style>\n",
       "<table border=\"1\" class=\"dataframe\">\n",
       "  <thead>\n",
       "    <tr style=\"text-align: right;\">\n",
       "      <th></th>\n",
       "      <th>Date</th>\n",
       "      <th>Detailed Forecast</th>\n",
       "    </tr>\n",
       "  </thead>\n",
       "  <tbody>\n",
       "    <tr>\n",
       "      <th>0</th>\n",
       "      <td>Tonight</td>\n",
       "      <td>Mainly cloudy. Wind southwest 20 km/h gusting ...</td>\n",
       "    </tr>\n",
       "    <tr>\n",
       "      <th>1</th>\n",
       "      <td>Thu, 1 Feb</td>\n",
       "      <td>Cloudy with 40 percent chance of drizzle or sh...</td>\n",
       "    </tr>\n",
       "    <tr>\n",
       "      <th>2</th>\n",
       "      <td>Night</td>\n",
       "      <td>Cloudy. 40 percent chance of drizzle or shower...</td>\n",
       "    </tr>\n",
       "    <tr>\n",
       "      <th>3</th>\n",
       "      <td>Fri, 2 Feb</td>\n",
       "      <td>Sunny. High plus 1.</td>\n",
       "    </tr>\n",
       "    <tr>\n",
       "      <th>4</th>\n",
       "      <td>Night</td>\n",
       "      <td>Clear. Low minus 6.</td>\n",
       "    </tr>\n",
       "    <tr>\n",
       "      <th>5</th>\n",
       "      <td>Sat, 3 Feb</td>\n",
       "      <td>Sunny. High plus 3.</td>\n",
       "    </tr>\n",
       "    <tr>\n",
       "      <th>6</th>\n",
       "      <td>Night</td>\n",
       "      <td>Clear. Low minus 4.</td>\n",
       "    </tr>\n",
       "    <tr>\n",
       "      <th>7</th>\n",
       "      <td>Sun, 4 Feb</td>\n",
       "      <td>Sunny. High plus 2.</td>\n",
       "    </tr>\n",
       "    <tr>\n",
       "      <th>8</th>\n",
       "      <td>Night</td>\n",
       "      <td>Cloudy periods. Low minus 6.</td>\n",
       "    </tr>\n",
       "    <tr>\n",
       "      <th>9</th>\n",
       "      <td>Mon, 5 Feb</td>\n",
       "      <td>A mix of sun and cloud. High zero.</td>\n",
       "    </tr>\n",
       "    <tr>\n",
       "      <th>10</th>\n",
       "      <td>Night</td>\n",
       "      <td>Cloudy periods. Low minus 7.</td>\n",
       "    </tr>\n",
       "    <tr>\n",
       "      <th>11</th>\n",
       "      <td>Tue, 6 Feb</td>\n",
       "      <td>A mix of sun and cloud. High zero.</td>\n",
       "    </tr>\n",
       "  </tbody>\n",
       "</table>\n",
       "</div>\n",
       "    <div class=\"colab-df-buttons\">\n",
       "\n",
       "  <div class=\"colab-df-container\">\n",
       "    <button class=\"colab-df-convert\" onclick=\"convertToInteractive('df-deafaf15-d2a8-4a29-8181-b8853a72f6d3')\"\n",
       "            title=\"Convert this dataframe to an interactive table.\"\n",
       "            style=\"display:none;\">\n",
       "\n",
       "  <svg xmlns=\"http://www.w3.org/2000/svg\" height=\"24px\" viewBox=\"0 -960 960 960\">\n",
       "    <path d=\"M120-120v-720h720v720H120Zm60-500h600v-160H180v160Zm220 220h160v-160H400v160Zm0 220h160v-160H400v160ZM180-400h160v-160H180v160Zm440 0h160v-160H620v160ZM180-180h160v-160H180v160Zm440 0h160v-160H620v160Z\"/>\n",
       "  </svg>\n",
       "    </button>\n",
       "\n",
       "  <style>\n",
       "    .colab-df-container {\n",
       "      display:flex;\n",
       "      gap: 12px;\n",
       "    }\n",
       "\n",
       "    .colab-df-convert {\n",
       "      background-color: #E8F0FE;\n",
       "      border: none;\n",
       "      border-radius: 50%;\n",
       "      cursor: pointer;\n",
       "      display: none;\n",
       "      fill: #1967D2;\n",
       "      height: 32px;\n",
       "      padding: 0 0 0 0;\n",
       "      width: 32px;\n",
       "    }\n",
       "\n",
       "    .colab-df-convert:hover {\n",
       "      background-color: #E2EBFA;\n",
       "      box-shadow: 0px 1px 2px rgba(60, 64, 67, 0.3), 0px 1px 3px 1px rgba(60, 64, 67, 0.15);\n",
       "      fill: #174EA6;\n",
       "    }\n",
       "\n",
       "    .colab-df-buttons div {\n",
       "      margin-bottom: 4px;\n",
       "    }\n",
       "\n",
       "    [theme=dark] .colab-df-convert {\n",
       "      background-color: #3B4455;\n",
       "      fill: #D2E3FC;\n",
       "    }\n",
       "\n",
       "    [theme=dark] .colab-df-convert:hover {\n",
       "      background-color: #434B5C;\n",
       "      box-shadow: 0px 1px 3px 1px rgba(0, 0, 0, 0.15);\n",
       "      filter: drop-shadow(0px 1px 2px rgba(0, 0, 0, 0.3));\n",
       "      fill: #FFFFFF;\n",
       "    }\n",
       "  </style>\n",
       "\n",
       "    <script>\n",
       "      const buttonEl =\n",
       "        document.querySelector('#df-deafaf15-d2a8-4a29-8181-b8853a72f6d3 button.colab-df-convert');\n",
       "      buttonEl.style.display =\n",
       "        google.colab.kernel.accessAllowed ? 'block' : 'none';\n",
       "\n",
       "      async function convertToInteractive(key) {\n",
       "        const element = document.querySelector('#df-deafaf15-d2a8-4a29-8181-b8853a72f6d3');\n",
       "        const dataTable =\n",
       "          await google.colab.kernel.invokeFunction('convertToInteractive',\n",
       "                                                    [key], {});\n",
       "        if (!dataTable) return;\n",
       "\n",
       "        const docLinkHtml = 'Like what you see? Visit the ' +\n",
       "          '<a target=\"_blank\" href=https://colab.research.google.com/notebooks/data_table.ipynb>data table notebook</a>'\n",
       "          + ' to learn more about interactive tables.';\n",
       "        element.innerHTML = '';\n",
       "        dataTable['output_type'] = 'display_data';\n",
       "        await google.colab.output.renderOutput(dataTable, element);\n",
       "        const docLink = document.createElement('div');\n",
       "        docLink.innerHTML = docLinkHtml;\n",
       "        element.appendChild(docLink);\n",
       "      }\n",
       "    </script>\n",
       "  </div>\n",
       "\n",
       "\n",
       "<div id=\"df-5be21b59-606a-4e85-90fb-55dd4865d530\">\n",
       "  <button class=\"colab-df-quickchart\" onclick=\"quickchart('df-5be21b59-606a-4e85-90fb-55dd4865d530')\"\n",
       "            title=\"Suggest charts\"\n",
       "            style=\"display:none;\">\n",
       "\n",
       "<svg xmlns=\"http://www.w3.org/2000/svg\" height=\"24px\"viewBox=\"0 0 24 24\"\n",
       "     width=\"24px\">\n",
       "    <g>\n",
       "        <path d=\"M19 3H5c-1.1 0-2 .9-2 2v14c0 1.1.9 2 2 2h14c1.1 0 2-.9 2-2V5c0-1.1-.9-2-2-2zM9 17H7v-7h2v7zm4 0h-2V7h2v10zm4 0h-2v-4h2v4z\"/>\n",
       "    </g>\n",
       "</svg>\n",
       "  </button>\n",
       "\n",
       "<style>\n",
       "  .colab-df-quickchart {\n",
       "      --bg-color: #E8F0FE;\n",
       "      --fill-color: #1967D2;\n",
       "      --hover-bg-color: #E2EBFA;\n",
       "      --hover-fill-color: #174EA6;\n",
       "      --disabled-fill-color: #AAA;\n",
       "      --disabled-bg-color: #DDD;\n",
       "  }\n",
       "\n",
       "  [theme=dark] .colab-df-quickchart {\n",
       "      --bg-color: #3B4455;\n",
       "      --fill-color: #D2E3FC;\n",
       "      --hover-bg-color: #434B5C;\n",
       "      --hover-fill-color: #FFFFFF;\n",
       "      --disabled-bg-color: #3B4455;\n",
       "      --disabled-fill-color: #666;\n",
       "  }\n",
       "\n",
       "  .colab-df-quickchart {\n",
       "    background-color: var(--bg-color);\n",
       "    border: none;\n",
       "    border-radius: 50%;\n",
       "    cursor: pointer;\n",
       "    display: none;\n",
       "    fill: var(--fill-color);\n",
       "    height: 32px;\n",
       "    padding: 0;\n",
       "    width: 32px;\n",
       "  }\n",
       "\n",
       "  .colab-df-quickchart:hover {\n",
       "    background-color: var(--hover-bg-color);\n",
       "    box-shadow: 0 1px 2px rgba(60, 64, 67, 0.3), 0 1px 3px 1px rgba(60, 64, 67, 0.15);\n",
       "    fill: var(--button-hover-fill-color);\n",
       "  }\n",
       "\n",
       "  .colab-df-quickchart-complete:disabled,\n",
       "  .colab-df-quickchart-complete:disabled:hover {\n",
       "    background-color: var(--disabled-bg-color);\n",
       "    fill: var(--disabled-fill-color);\n",
       "    box-shadow: none;\n",
       "  }\n",
       "\n",
       "  .colab-df-spinner {\n",
       "    border: 2px solid var(--fill-color);\n",
       "    border-color: transparent;\n",
       "    border-bottom-color: var(--fill-color);\n",
       "    animation:\n",
       "      spin 1s steps(1) infinite;\n",
       "  }\n",
       "\n",
       "  @keyframes spin {\n",
       "    0% {\n",
       "      border-color: transparent;\n",
       "      border-bottom-color: var(--fill-color);\n",
       "      border-left-color: var(--fill-color);\n",
       "    }\n",
       "    20% {\n",
       "      border-color: transparent;\n",
       "      border-left-color: var(--fill-color);\n",
       "      border-top-color: var(--fill-color);\n",
       "    }\n",
       "    30% {\n",
       "      border-color: transparent;\n",
       "      border-left-color: var(--fill-color);\n",
       "      border-top-color: var(--fill-color);\n",
       "      border-right-color: var(--fill-color);\n",
       "    }\n",
       "    40% {\n",
       "      border-color: transparent;\n",
       "      border-right-color: var(--fill-color);\n",
       "      border-top-color: var(--fill-color);\n",
       "    }\n",
       "    60% {\n",
       "      border-color: transparent;\n",
       "      border-right-color: var(--fill-color);\n",
       "    }\n",
       "    80% {\n",
       "      border-color: transparent;\n",
       "      border-right-color: var(--fill-color);\n",
       "      border-bottom-color: var(--fill-color);\n",
       "    }\n",
       "    90% {\n",
       "      border-color: transparent;\n",
       "      border-bottom-color: var(--fill-color);\n",
       "    }\n",
       "  }\n",
       "</style>\n",
       "\n",
       "  <script>\n",
       "    async function quickchart(key) {\n",
       "      const quickchartButtonEl =\n",
       "        document.querySelector('#' + key + ' button');\n",
       "      quickchartButtonEl.disabled = true;  // To prevent multiple clicks.\n",
       "      quickchartButtonEl.classList.add('colab-df-spinner');\n",
       "      try {\n",
       "        const charts = await google.colab.kernel.invokeFunction(\n",
       "            'suggestCharts', [key], {});\n",
       "      } catch (error) {\n",
       "        console.error('Error during call to suggestCharts:', error);\n",
       "      }\n",
       "      quickchartButtonEl.classList.remove('colab-df-spinner');\n",
       "      quickchartButtonEl.classList.add('colab-df-quickchart-complete');\n",
       "    }\n",
       "    (() => {\n",
       "      let quickchartButtonEl =\n",
       "        document.querySelector('#df-5be21b59-606a-4e85-90fb-55dd4865d530 button');\n",
       "      quickchartButtonEl.style.display =\n",
       "        google.colab.kernel.accessAllowed ? 'block' : 'none';\n",
       "    })();\n",
       "  </script>\n",
       "</div>\n",
       "    </div>\n",
       "  </div>\n"
      ],
      "text/plain": [
       "          Date                                  Detailed Forecast\n",
       "0      Tonight  Mainly cloudy. Wind southwest 20 km/h gusting ...\n",
       "1   Thu, 1 Feb  Cloudy with 40 percent chance of drizzle or sh...\n",
       "2        Night  Cloudy. 40 percent chance of drizzle or shower...\n",
       "3   Fri, 2 Feb                                Sunny. High plus 1.\n",
       "4        Night                                Clear. Low minus 6.\n",
       "5   Sat, 3 Feb                                Sunny. High plus 3.\n",
       "6        Night                                Clear. Low minus 4.\n",
       "7   Sun, 4 Feb                                Sunny. High plus 2.\n",
       "8        Night                       Cloudy periods. Low minus 6.\n",
       "9   Mon, 5 Feb                 A mix of sun and cloud. High zero.\n",
       "10       Night                       Cloudy periods. Low minus 7.\n",
       "11  Tue, 6 Feb                 A mix of sun and cloud. High zero."
      ]
     },
     "metadata": {},
     "output_type": "display_data"
    }
   ],
   "source": [
    "display(tables[0])"
   ]
  },
  {
   "cell_type": "markdown",
   "metadata": {
    "id": "d2109366"
   },
   "source": [
    "## Preprocessing Text ⚙"
   ]
  },
  {
   "cell_type": "markdown",
   "metadata": {
    "id": "Y1mXVxkDjmSp"
   },
   "source": [
    "We have now acquired some text data from online sources. Before using this text in application of NLP - for example, in applying machine leanring - we first need to preprocess the data. Note that this is required to apply traditional natural language processing techniques, however is not as hard-and-fast a requirement for modern modeling approaches such as those based on deep learning and for using large language models (LLMs) which have the advantage of more sophisticated tokenization methods.\n",
    "\n",
    "Major steps in preprocessing text are:\n",
    "- **Normalization**: addressing case, removing punctuation and stop words, stemming or lemmatization\n",
    "- **Tokenization**: breaking up into individual units of language into *tokens*b, usually words\n",
    "- **Vectorization**: converting tokens to structured numeric data\n",
    "\n",
    "For the following, we will use the description we acquired from the CocktailDB earlier in this notebook:"
   ]
  },
  {
   "cell_type": "code",
   "execution_count": null,
   "metadata": {
    "colab": {
     "base_uri": "https://localhost:8080/",
     "height": 179
    },
    "id": "rnmYvswtjmSp",
    "outputId": "9bd3f606-df98-44a3-b1bc-d6bba0e35794"
   },
   "outputs": [
    {
     "data": {
      "application/vnd.google.colaboratory.intrinsic+json": {
       "type": "string"
      },
      "text/plain": [
       "'Vodka is a distilled beverage composed primarily of water and ethanol, sometimes with traces of impurities and flavorings. Traditionally, vodka is made by the distillation of fermented cereal grains or potatoes, though some modern brands use other substances, such as fruits or sugar.\\r\\n\\r\\nSince the 1890s, the standard Polish, Russian, Belarusian, Ukrainian, Estonian, Latvian, Lithuanian and Czech vodkas are 40% alcohol by volume ABV (80 US proof), a percentage that is widely misattributed to Dmitri Mendeleev. The European Union has established a minimum of 37.5% ABV for any \"European vodka\" to be named as such. Products sold as \"vodka\" in the United States must have a minimum alcohol content of 40%. Even with these loose restrictions, most vodka sold contains 40% ABV. For homemade vodkas and distilled beverages referred to as \"moonshine\", see moonshine by country.\\r\\n\\r\\nVodka is traditionally drunk neat (not mixed with any water, ice, or other mixer), though it is often served chilled in th'"
      ]
     },
     "metadata": {},
     "output_type": "display_data"
    }
   ],
   "source": [
    "raw_text = description_list[1]['description']\n",
    "\n",
    "# Show first 1000 characters\n",
    "display(raw_text[0:1000])"
   ]
  },
  {
   "cell_type": "markdown",
   "metadata": {
    "id": "Ue3iRbkajmSp"
   },
   "source": [
    "We can see there are a number of special characters for formatting purposes, such as newline (`\\n`) and carriage return (`\\r`) characters. These are displayed when showing with the text via `print` as oppposed to `display`:"
   ]
  },
  {
   "cell_type": "code",
   "execution_count": null,
   "metadata": {
    "colab": {
     "base_uri": "https://localhost:8080/"
    },
    "id": "blINc_tNjmSq",
    "outputId": "a8d486dd-74ff-4705-f763-714f9a359770"
   },
   "outputs": [
    {
     "name": "stdout",
     "output_type": "stream",
     "text": [
      "Vodka is a distilled beverage composed primarily of water and ethanol, sometimes with traces of impurities and flavorings. Traditionally, vodka is made by the distillation of fermented cereal grains or potatoes, though some modern brands use other substances, such as fruits or sugar.\r\n",
      "\r\n",
      "Since the 1890s, the standard Polish, Russian, Belarusian, Ukrainian, Estonian, Latvian, Lithuanian and Czech vodkas are 40% alcohol by volume ABV (80 US proof), a percentage that is widely misattributed to Dmitri Mendeleev. The European Union has established a minimum of 37.5% ABV for any \"European vodka\" to be named as such. Products sold as \"vodka\" in the United States must have a minimum alcohol content of 40%. Even with these loose restrictions, most vodka sold contains 40% ABV. For homemade vodkas and distilled beverages referred to as \"moonshine\", see moonshine by country.\r\n",
      "\r\n",
      "Vodka is traditionally drunk neat (not mixed with any water, ice, or other mixer), though it is often served chilled in th\n"
     ]
    }
   ],
   "source": [
    "print(raw_text[0:1000])"
   ]
  },
  {
   "cell_type": "markdown",
   "metadata": {
    "id": "f4ea8daf"
   },
   "source": [
    "We will need to **remove these special characters** part of preprocessing. Here we will replace them with with spaces:"
   ]
  },
  {
   "cell_type": "code",
   "execution_count": null,
   "metadata": {
    "colab": {
     "base_uri": "https://localhost:8080/",
     "height": 179
    },
    "id": "d72a9244",
    "outputId": "87158d63-c56f-44f3-c25b-f2fd959fd690",
    "tags": []
   },
   "outputs": [
    {
     "data": {
      "application/vnd.google.colaboratory.intrinsic+json": {
       "type": "string"
      },
      "text/plain": [
       "'Vodka is a distilled beverage composed primarily of water and ethanol, sometimes with traces of impurities and flavorings. Traditionally, vodka is made by the distillation of fermented cereal grains or potatoes, though some modern brands use other substances, such as fruits or sugar. Since the 1890s, the standard Polish, Russian, Belarusian, Ukrainian, Estonian, Latvian, Lithuanian and Czech vodkas are 40% alcohol by volume ABV (80 US proof), a percentage that is widely misattributed to Dmitri Mendeleev. The European Union has established a minimum of 37.5% ABV for any \"European vodka\" to be named as such. Products sold as \"vodka\" in the United States must have a minimum alcohol content of 40%. Even with these loose restrictions, most vodka sold contains 40% ABV. For homemade vodkas and distilled beverages referred to as \"moonshine\", see moonshine by country. Vodka is traditionally drunk neat (not mixed with any water, ice, or other mixer), though it is often served chilled in the vodk'"
      ]
     },
     "metadata": {},
     "output_type": "display_data"
    }
   ],
   "source": [
    "# Remove tabs and newlines\n",
    "text = raw_text.replace(\"\\t\", \" \").replace(\"\\n\", \" \").replace(\"\\r\",\" \")\n",
    "\n",
    "# Remove multiple spaces - requires regex\n",
    "import re\n",
    "text = re.sub(' +', ' ', text)\n",
    "\n",
    "display(text[0:1000])"
   ]
  },
  {
   "cell_type": "markdown",
   "metadata": {
    "id": "Dn9DbpPjjmSr"
   },
   "source": [
    "Next we will standardize the text be converting everything to **lowercase**:"
   ]
  },
  {
   "cell_type": "code",
   "execution_count": null,
   "metadata": {
    "colab": {
     "base_uri": "https://localhost:8080/",
     "height": 179
    },
    "id": "f317c981",
    "outputId": "1dd3414b-cd88-4c50-d75b-7055a82b1beb",
    "tags": []
   },
   "outputs": [
    {
     "data": {
      "application/vnd.google.colaboratory.intrinsic+json": {
       "type": "string"
      },
      "text/plain": [
       "'vodka is a distilled beverage composed primarily of water and ethanol, sometimes with traces of impurities and flavorings. traditionally, vodka is made by the distillation of fermented cereal grains or potatoes, though some modern brands use other substances, such as fruits or sugar. since the 1890s, the standard polish, russian, belarusian, ukrainian, estonian, latvian, lithuanian and czech vodkas are 40% alcohol by volume abv (80 us proof), a percentage that is widely misattributed to dmitri mendeleev. the european union has established a minimum of 37.5% abv for any \"european vodka\" to be named as such. products sold as \"vodka\" in the united states must have a minimum alcohol content of 40%. even with these loose restrictions, most vodka sold contains 40% abv. for homemade vodkas and distilled beverages referred to as \"moonshine\", see moonshine by country. vodka is traditionally drunk neat (not mixed with any water, ice, or other mixer), though it is often served chilled in the vodk'"
      ]
     },
     "metadata": {},
     "output_type": "display_data"
    }
   ],
   "source": [
    "# Change case to lower\n",
    "text = text.lower()\n",
    "display(text[0:1000])"
   ]
  },
  {
   "cell_type": "markdown",
   "metadata": {
    "id": "3e8099bf"
   },
   "source": [
    "**Removing puncutation** is a little more involved. Luckily we can do this using the `string` module which is built into python. This contains a special string, `punctuation`, which is all punctuation marks:"
   ]
  },
  {
   "cell_type": "code",
   "execution_count": null,
   "metadata": {
    "colab": {
     "base_uri": "https://localhost:8080/",
     "height": 36
    },
    "id": "a5e4f677",
    "outputId": "faee32b8-6eb3-4784-ee71-86b8c7f5cc3d"
   },
   "outputs": [
    {
     "data": {
      "application/vnd.google.colaboratory.intrinsic+json": {
       "type": "string"
      },
      "text/plain": [
       "'!\"#$%&\\'()*+,-./:;<=>?@[\\\\]^_`{|}~'"
      ]
     },
     "execution_count": 29,
     "metadata": {},
     "output_type": "execute_result"
    }
   ],
   "source": [
    "import string\n",
    "string.punctuation"
   ]
  },
  {
   "cell_type": "markdown",
   "metadata": {
    "id": "fIrVvJwsjmSs"
   },
   "source": [
    "We can iterate over each punctuation mark by treating the string as a list of characters, then replace each occurrence of the punctuation mark with the empty character (`\"\"`):"
   ]
  },
  {
   "cell_type": "code",
   "execution_count": null,
   "metadata": {
    "colab": {
     "base_uri": "https://localhost:8080/",
     "height": 179
    },
    "id": "3faed548",
    "outputId": "4715bd9c-5bb7-4cd7-89ad-5f4d50122d1a",
    "tags": []
   },
   "outputs": [
    {
     "data": {
      "application/vnd.google.colaboratory.intrinsic+json": {
       "type": "string"
      },
      "text/plain": [
       "'vodka is a distilled beverage composed primarily of water and ethanol sometimes with traces of impurities and flavorings traditionally vodka is made by the distillation of fermented cereal grains or potatoes though some modern brands use other substances such as fruits or sugar since the 1890s the standard polish russian belarusian ukrainian estonian latvian lithuanian and czech vodkas are 40 alcohol by volume abv 80 us proof a percentage that is widely misattributed to dmitri mendeleev the european union has established a minimum of 375 abv for any european vodka to be named as such products sold as vodka in the united states must have a minimum alcohol content of 40 even with these loose restrictions most vodka sold contains 40 abv for homemade vodkas and distilled beverages referred to as moonshine see moonshine by country vodka is traditionally drunk neat not mixed with any water ice or other mixer though it is often served chilled in the vodka belt countries belarus estonia finland iceland latvia lithuania norway poland russia sweden ukraine it is also commonly used in cocktails and mixed drinks such as the vodka martini cosmopolitan vodka tonic screwdriver greyhound black or white russian moscow mule and bloody mary scholars debate the beginnings of vodka it is a contentious issue because very little historical material is available for many centuries beverages differed significantly compared to the vodka of today as the spirit at that time had a different flavor color and smell and was originally used as medicine it contained little alcohol an estimated maximum of about 14 as only this amount can be attained by natural fermentation the still allowing for distillation burning of wine increased purity and increased alcohol content was invented in the 8th century a common property of the vodkas produced in the united states and europe is the extensive use of filtration prior to any additional processing including the addition of flavorants filtering is sometimes done in the still during distillation as well as afterwards where the distilled vodka is filtered through activated charcoal and other media to absorb trace amounts of substances that alter or impart offflavors to the vodka however this is not the case in the traditional vodkaproducing nations so many distillers from these countries prefer to use very accurate distillation but minimal filtering thus preserving the unique flavors and characteristics of their products the master distiller is in charge of distilling the vodka and directing its filtration which includes the removal of the foreshots heads and tails these components of the distillate contain flavor compounds such as ethyl acetate and ethyl lactate heads as well as the fusel oils tails that impact the usually desired clean taste of vodka through numerous rounds of distillation or the use of a fractioning still the taste is modified and clarity is increased in contrast distillery process for liquors such as whiskey rum and baijiu allow portions of the heads and tails to remain giving them their unique flavors repeated distillation of vodka will make its ethanol level much higher than is acceptable to most end users whether legislation determines strength limits or not depending on the distillation method and the technique of the stillmaster the final filtered and distilled vodka may have as much as 95–96 ethanol as such most vodka is diluted with water prior to bottling polish distilleries make a very pure 96 192 proof formerly also 98 rectified spirit polish language spirytus rektyfikowany technically a form of vodka it is sold in liquor stores rather than pharmacies similarly the german market often carries german hungarian polish and ukrainianmade varieties of vodka of 90 to 95 abv a bulgarian vodka balkan 176° has an 88 alcohol content everclear an american brand is also sold at 95 abv'"
      ]
     },
     "execution_count": 30,
     "metadata": {},
     "output_type": "execute_result"
    }
   ],
   "source": [
    "# Removing punctuation\n",
    "for mark in string.punctuation:\n",
    "    text = text.replace(mark, \"\")\n",
    "\n",
    "text"
   ]
  },
  {
   "cell_type": "markdown",
   "metadata": {
    "id": "7b730b7a"
   },
   "source": [
    "Now we will turn to usage of the Natural Language Toolkit, or [NLTK](https://www.nltk.org/) library for **removing stop words**. [Stop words](https://en.wikipedia.org/wiki/Stop_word) are words which are not of interest in NLP as they don't possess particular meaning on their own. These are usually the syntatic \"glue\" which make up a language (in this case, English). We can take a look at the stopword list included in NLTK by importing it from the `corpus` module:"
   ]
  },
  {
   "cell_type": "code",
   "execution_count": null,
   "metadata": {
    "colab": {
     "base_uri": "https://localhost:8080/"
    },
    "id": "a693653e",
    "outputId": "6fc650ca-3cdb-43e9-e058-0b53c90f7a94"
   },
   "outputs": [
    {
     "name": "stdout",
     "output_type": "stream",
     "text": [
      "['i', 'me', 'my', 'myself', 'we', 'our', 'ours', 'ourselves', 'you', \"you're\", \"you've\", \"you'll\", \"you'd\", 'your', 'yours', 'yourself', 'yourselves', 'he', 'him', 'his', 'himself', 'she', \"she's\", 'her', 'hers', 'herself', 'it', \"it's\", 'its', 'itself', 'they', 'them', 'their', 'theirs', 'themselves', 'what', 'which', 'who', 'whom', 'this', 'that', \"that'll\", 'these', 'those', 'am', 'is', 'are', 'was', 'were', 'be', 'been', 'being', 'have', 'has', 'had', 'having', 'do', 'does', 'did', 'doing', 'a', 'an', 'the', 'and', 'but', 'if', 'or', 'because', 'as', 'until', 'while', 'of', 'at', 'by', 'for', 'with', 'about', 'against', 'between', 'into', 'through', 'during', 'before', 'after', 'above', 'below', 'to', 'from', 'up', 'down', 'in', 'out', 'on', 'off', 'over', 'under', 'again', 'further', 'then', 'once', 'here', 'there', 'when', 'where', 'why', 'how', 'all', 'any', 'both', 'each', 'few', 'more', 'most', 'other', 'some', 'such', 'no', 'nor', 'not', 'only', 'own', 'same', 'so', 'than', 'too', 'very', 's', 't', 'can', 'will', 'just', 'don', \"don't\", 'should', \"should've\", 'now', 'd', 'll', 'm', 'o', 're', 've', 'y', 'ain', 'aren', \"aren't\", 'couldn', \"couldn't\", 'didn', \"didn't\", 'doesn', \"doesn't\", 'hadn', \"hadn't\", 'hasn', \"hasn't\", 'haven', \"haven't\", 'isn', \"isn't\", 'ma', 'mightn', \"mightn't\", 'mustn', \"mustn't\", 'needn', \"needn't\", 'shan', \"shan't\", 'shouldn', \"shouldn't\", 'wasn', \"wasn't\", 'weren', \"weren't\", 'won', \"won't\", 'wouldn', \"wouldn't\"]\n"
     ]
    },
    {
     "name": "stderr",
     "output_type": "stream",
     "text": [
      "[nltk_data] Downloading package stopwords to /root/nltk_data...\n",
      "[nltk_data]   Unzipping corpora/stopwords.zip.\n"
     ]
    }
   ],
   "source": [
    "import nltk\n",
    "from nltk.corpus import stopwords\n",
    "\n",
    "nltk.download('stopwords')\n",
    "\n",
    "print(stopwords.words('english'))"
   ]
  },
  {
   "cell_type": "markdown",
   "metadata": {
    "id": "94b2951f"
   },
   "source": [
    "We've already removed punctuation, so now let's do the same for the stopwords. First we will store the stopwords list in a variable."
   ]
  },
  {
   "cell_type": "code",
   "execution_count": null,
   "metadata": {
    "id": "4759e4f1"
   },
   "outputs": [],
   "source": [
    "mystopwords = stopwords.words('english')"
   ]
  },
  {
   "cell_type": "markdown",
   "metadata": {
    "id": "7077017b"
   },
   "source": [
    "In this step, we'll need to **tokenize the text**, then go through and remove each word which appears in the stopword list. Tokenizing is nothing more than breaking the text down into \"units\" of language. The simplest approach is to treat each word as a token, so here we will just split on whitespace, *i.e.* the `_` character:"
   ]
  },
  {
   "cell_type": "code",
   "execution_count": null,
   "metadata": {
    "colab": {
     "base_uri": "https://localhost:8080/"
    },
    "id": "464e1807",
    "outputId": "02a4db26-ef6e-4f2e-af18-abc316fb00f4"
   },
   "outputs": [
    {
     "data": {
      "text/plain": [
       "627"
      ]
     },
     "execution_count": 33,
     "metadata": {},
     "output_type": "execute_result"
    }
   ],
   "source": [
    "# Tokenize\n",
    "tokens = text.split(' ')\n",
    "\n",
    "# How many tokens are there?\n",
    "len(tokens)"
   ]
  },
  {
   "cell_type": "markdown",
   "metadata": {
    "id": "s7BeoKgnjmSu"
   },
   "source": [
    "We can see that in our description of vodka, there are 627 tokens in total. Let's take a look at some of them:"
   ]
  },
  {
   "cell_type": "code",
   "execution_count": null,
   "metadata": {
    "colab": {
     "base_uri": "https://localhost:8080/"
    },
    "id": "5906de11",
    "outputId": "4a0358b3-2168-48ac-e290-13e257853099",
    "tags": []
   },
   "outputs": [
    {
     "name": "stdout",
     "output_type": "stream",
     "text": [
      "['vodka', 'is', 'a', 'distilled', 'beverage', 'composed', 'primarily', 'of', 'water', 'and', 'ethanol', 'sometimes', 'with', 'traces', 'of', 'impurities', 'and', 'flavorings', 'traditionally', 'vodka', 'is', 'made', 'by', 'the', 'distillation', 'of', 'fermented', 'cereal', 'grains', 'or', 'potatoes', 'though', 'some', 'modern', 'brands', 'use', 'other', 'substances', 'such', 'as', 'fruits', 'or', 'sugar', 'since', 'the', '1890s', 'the', 'standard', 'polish', 'russian', 'belarusian', 'ukrainian', 'estonian', 'latvian', 'lithuanian', 'and', 'czech', 'vodkas', 'are', '40', 'alcohol', 'by', 'volume', 'abv', '80', 'us', 'proof', 'a', 'percentage', 'that', 'is', 'widely', 'misattributed', 'to', 'dmitri', 'mendeleev', 'the', 'european', 'union', 'has', 'established', 'a', 'minimum', 'of', '375', 'abv', 'for', 'any', 'european', 'vodka', 'to', 'be', 'named', 'as', 'such', 'products', 'sold', 'as', 'vodka', 'in']\n"
     ]
    }
   ],
   "source": [
    "print(tokens[0:100])"
   ]
  },
  {
   "cell_type": "markdown",
   "metadata": {
    "id": "a1841748"
   },
   "source": [
    "Now let's take a look at the most frequently occurring tokens, before and after removing stopwords.\n",
    "\n",
    "We will create a second list of tokens with the stop words removed. For both lists, we will put them into a pandas `Series`, then count the most frequently occuring words with `value_counts`, look at the 10 most frequently occuring using `nlargest`, and finally visualize the result with a call to `plot`:"
   ]
  },
  {
   "cell_type": "code",
   "execution_count": null,
   "metadata": {
    "colab": {
     "base_uri": "https://localhost:8080/",
     "height": 372
    },
    "id": "c5e8fe7c",
    "outputId": "641ae64a-422f-4fc5-a01a-6bed79a63d4b"
   },
   "outputs": [
    {
     "data": {
      "image/png": "[encoded data removed]",
      "text/plain": [
       "<Figure size 1000x400 with 2 Axes>"
      ]
     },
     "metadata": {},
     "output_type": "display_data"
    }
   ],
   "source": [
    "import numpy as np\n",
    "import pandas as pd\n",
    "import matplotlib.pyplot as plt\n",
    "\n",
    "### REMOVE STOPWORDS\n",
    "# Create an empty list\n",
    "trimmed_tokens = list()\n",
    "\n",
    "# Iterate over each token, it is not a stopword, add it to the new (trimmed) list\n",
    "for token in tokens:\n",
    "    if token not in stopwords.words('english'):\n",
    "        trimmed_tokens.append(token)\n",
    "\n",
    "### CONVERT TO SERIES\n",
    "tokens_series = pd.Series(tokens)\n",
    "trimmed_tokens_series = pd.Series(trimmed_tokens)\n",
    "\n",
    "### PLOT\n",
    "plt.subplots(1,2, figsize=(10, 4))\n",
    "plt.subplot(1,2,1)\n",
    "tokens_series.value_counts().nlargest(10).sort_values().plot(kind='barh')\n",
    "plt.xticks(np.arange(0, 40, 5))\n",
    "plt.title('With stopwords')\n",
    "plt.subplot(1,2,2)\n",
    "trimmed_tokens_series.value_counts().nlargest(10).sort_values().plot(kind='barh')\n",
    "plt.xticks(np.arange(0, 40, 5))\n",
    "plt.title('Without stopwords')\n",
    "plt.tight_layout()\n",
    "plt.show()"
   ]
  },
  {
   "cell_type": "markdown",
   "metadata": {
    "id": "3f5168ec"
   },
   "source": [
    "As we can see on the left, stopwords make up the majority of the text. When these are removed, the subject matter of the document becomes much clearer with the remaining words which are the content of what the passage of text is about."
   ]
  },
  {
   "cell_type": "markdown",
   "metadata": {
    "id": "660d4900"
   },
   "source": [
    "### Vectorizing Text 🔢"
   ]
  },
  {
   "cell_type": "markdown",
   "metadata": {
    "id": "5f591500"
   },
   "source": [
    "In the above section we preprocessed text and vectorized using simple tokenization with the space `_` character. Is there a faster way?\n",
    "\n",
    "Yes, [scikit-learn](https://scikit-learn.org/stable/), the standard open source python library for machine learning, has powerful text processing built-in, and we can tokenize our text and remove stopwords together in one go using the different built-in [vectorizers](https://scikit-learn.org/stable/modules/classes.html#module-sklearn.feature_extraction.text) in the `feature_extraction.text` submodule.\n",
    "\n",
    "First, we will apply count vectorization, which is nothing more than counting the number of occurrences of each token in a passage of text:"
   ]
  },
  {
   "cell_type": "code",
   "execution_count": null,
   "metadata": {
    "colab": {
     "base_uri": "https://localhost:8080/",
     "height": 179
    },
    "id": "5808bf4e",
    "outputId": "fa26e1cf-0c2e-4de6-890d-1297cc5e3d57",
    "tags": []
   },
   "outputs": [
    {
     "data": {
      "application/vnd.google.colaboratory.intrinsic+json": {
       "type": "string"
      },
      "text/plain": [
       "'vodka is a distilled beverage composed primarily of water and ethanol sometimes with traces of impurities and flavorings traditionally vodka is made by the distillation of fermented cereal grains or potatoes though some modern brands use other substances such as fruits or sugar since the 1890s the standard polish russian belarusian ukrainian estonian latvian lithuanian and czech vodkas are 40 alcohol by volume abv 80 us proof a percentage that is widely misattributed to dmitri mendeleev the european union has established a minimum of 375 abv for any european vodka to be named as such products sold as vodka in the united states must have a minimum alcohol content of 40 even with these loose restrictions most vodka sold contains 40 abv for homemade vodkas and distilled beverages referred to as moonshine see moonshine by country vodka is traditionally drunk neat not mixed with any water ice or other mixer though it is often served chilled in the vodka belt countries belarus estonia finlan'"
      ]
     },
     "metadata": {},
     "output_type": "display_data"
    }
   ],
   "source": [
    "display(text[0:1000])"
   ]
  },
  {
   "cell_type": "markdown",
   "metadata": {
    "id": "84Enual7jmSw"
   },
   "source": [
    "To vectorize the text, we import the `CountVectorizer` class from the `sklearn.feature_extraction.text` submodule, create an instance of it, then pass it the data and fit and transform the text. Not that all we need to do to remove stop words here is to pass the argument `stop_words=\"english\"` to the `CountVectorizer`:"
   ]
  },
  {
   "cell_type": "code",
   "execution_count": null,
   "metadata": {
    "colab": {
     "base_uri": "https://localhost:8080/"
    },
    "id": "d3ec3f32",
    "outputId": "b3ad4f55-170e-4e35-e374-d192180ea597"
   },
   "outputs": [
    {
     "data": {
      "text/plain": [
       "<1x258 sparse matrix of type '<class 'numpy.int64'>'\n",
       "\twith 258 stored elements in Compressed Sparse Row format>"
      ]
     },
     "execution_count": 37,
     "metadata": {},
     "output_type": "execute_result"
    }
   ],
   "source": [
    "from sklearn.feature_extraction.text import CountVectorizer\n",
    "\n",
    "# Instantiate and tell to remove stopwords\n",
    "cv = CountVectorizer(stop_words='english')\n",
    "\n",
    "# Fit and transform\n",
    "vectorized = cv.fit_transform([text])\n",
    "vectorized"
   ]
  },
  {
   "cell_type": "markdown",
   "metadata": {
    "id": "HF3cGvVVjmSx"
   },
   "source": [
    "We can see this has returned a sparse matrix, since the data you are working with in NLP is normally assumed to be large. Let's take a look at the \"dense\" representation, and see what the `CountVectorizer` has actually done:"
   ]
  },
  {
   "cell_type": "code",
   "execution_count": null,
   "metadata": {
    "colab": {
     "base_uri": "https://localhost:8080/"
    },
    "id": "c4dcc7ac",
    "outputId": "48645aad-a0e7-450e-e879-0e46817b7c8d"
   },
   "outputs": [
    {
     "name": "stdout",
     "output_type": "stream",
     "text": [
      "[[ 1  1  1  1  1  3  1  1  1  1  3  2  1  1  5  1  1  1  1  1  1  5  1  1\n",
      "   1  1  1  1  1  1  1  1  1  1  1  1  2  1  1  1  1  1  1  1  1  1  1  1\n",
      "   1  1  1  1  1  1  1  1  1  1  1  1  1  1  1  1  1  1  3  1  1  1  2  1\n",
      "   1  1  1  1  1  1  1  1  1  1  7  4  1  1  1  1  1  1  1  1  1  1  1  1\n",
      "   1  3  2  1  2  1  1  1  1  2  2  2  1  1  2  1  1  2  1  1  1  1  1  2\n",
      "   1  1  1  3  1  1  1  1  1  1  1  1  1  1  1  3  1  1  1  1  1  1  1  1\n",
      "   1  1  1  1  1  2  1  2  1  1  1  1  1  1  1  1  1  1  1  2  1  2  1  1\n",
      "   1  2  1  1  1  1  1  1  1  1  1  1  1  1  1  1  4  1  1  1  1  1  2  1\n",
      "   1  1  2  2  1  1  1  1  1  1  1  1  1  1  1  1  1  2  1  1  1  1  1  1\n",
      "   4  2  1  1  2  1  1  1  2  1  1  3  2  1  1  1  1  1  1  1  1  2  1  1\n",
      "   1  1  2  2  4  2  1  1  1 21  1  3  1  3  1  1  1  1]]\n"
     ]
    }
   ],
   "source": [
    "print(vectorized.todense())"
   ]
  },
  {
   "cell_type": "markdown",
   "metadata": {
    "id": "154cd3d4"
   },
   "source": [
    "We can see that we now have an array of numbers instead of text! This is the *vectorized* form of the text data, where each number corresponds to a count of the number of time that token occurs in our text. This process of vectorization has transformed text data into numeric data the computer can understand and do computations with, such as fitting a machine learning model.\n",
    "\n",
    "Putting this into a dataframe with the feature (token) names from the `CountVectorizer` makes things much clearer, about what each number actually represents:"
   ]
  },
  {
   "cell_type": "code",
   "execution_count": null,
   "metadata": {
    "colab": {
     "base_uri": "https://localhost:8080/",
     "height": 130
    },
    "id": "7ce7b6e9",
    "outputId": "7334312f-623e-4122-f0cb-b17ba5ae0e55"
   },
   "outputs": [
    {
     "data": {
      "text/html": [
       "\n",
       "  <div id=\"df-9bc56595-5769-4c7d-ba32-af00f859cbbd\" class=\"colab-df-container\">\n",
       "    <div>\n",
       "<style scoped>\n",
       "    .dataframe tbody tr th:only-of-type {\n",
       "        vertical-align: middle;\n",
       "    }\n",
       "\n",
       "    .dataframe tbody tr th {\n",
       "        vertical-align: top;\n",
       "    }\n",
       "\n",
       "    .dataframe thead th {\n",
       "        text-align: right;\n",
       "    }\n",
       "</style>\n",
       "<table border=\"1\" class=\"dataframe\">\n",
       "  <thead>\n",
       "    <tr style=\"text-align: right;\">\n",
       "      <th></th>\n",
       "      <th>14</th>\n",
       "      <th>176</th>\n",
       "      <th>1890s</th>\n",
       "      <th>192</th>\n",
       "      <th>375</th>\n",
       "      <th>40</th>\n",
       "      <th>80</th>\n",
       "      <th>88</th>\n",
       "      <th>8th</th>\n",
       "      <th>90</th>\n",
       "      <th>...</th>\n",
       "      <th>varieties</th>\n",
       "      <th>vodka</th>\n",
       "      <th>vodkaproducing</th>\n",
       "      <th>vodkas</th>\n",
       "      <th>volume</th>\n",
       "      <th>water</th>\n",
       "      <th>whiskey</th>\n",
       "      <th>white</th>\n",
       "      <th>widely</th>\n",
       "      <th>wine</th>\n",
       "    </tr>\n",
       "  </thead>\n",
       "  <tbody>\n",
       "    <tr>\n",
       "      <th>0</th>\n",
       "      <td>1</td>\n",
       "      <td>1</td>\n",
       "      <td>1</td>\n",
       "      <td>1</td>\n",
       "      <td>1</td>\n",
       "      <td>3</td>\n",
       "      <td>1</td>\n",
       "      <td>1</td>\n",
       "      <td>1</td>\n",
       "      <td>1</td>\n",
       "      <td>...</td>\n",
       "      <td>1</td>\n",
       "      <td>21</td>\n",
       "      <td>1</td>\n",
       "      <td>3</td>\n",
       "      <td>1</td>\n",
       "      <td>3</td>\n",
       "      <td>1</td>\n",
       "      <td>1</td>\n",
       "      <td>1</td>\n",
       "      <td>1</td>\n",
       "    </tr>\n",
       "  </tbody>\n",
       "</table>\n",
       "<p>1 rows × 258 columns</p>\n",
       "</div>\n",
       "    <div class=\"colab-df-buttons\">\n",
       "\n",
       "  <div class=\"colab-df-container\">\n",
       "    <button class=\"colab-df-convert\" onclick=\"convertToInteractive('df-9bc56595-5769-4c7d-ba32-af00f859cbbd')\"\n",
       "            title=\"Convert this dataframe to an interactive table.\"\n",
       "            style=\"display:none;\">\n",
       "\n",
       "  <svg xmlns=\"http://www.w3.org/2000/svg\" height=\"24px\" viewBox=\"0 -960 960 960\">\n",
       "    <path d=\"M120-120v-720h720v720H120Zm60-500h600v-160H180v160Zm220 220h160v-160H400v160Zm0 220h160v-160H400v160ZM180-400h160v-160H180v160Zm440 0h160v-160H620v160ZM180-180h160v-160H180v160Zm440 0h160v-160H620v160Z\"/>\n",
       "  </svg>\n",
       "    </button>\n",
       "\n",
       "  <style>\n",
       "    .colab-df-container {\n",
       "      display:flex;\n",
       "      gap: 12px;\n",
       "    }\n",
       "\n",
       "    .colab-df-convert {\n",
       "      background-color: #E8F0FE;\n",
       "      border: none;\n",
       "      border-radius: 50%;\n",
       "      cursor: pointer;\n",
       "      display: none;\n",
       "      fill: #1967D2;\n",
       "      height: 32px;\n",
       "      padding: 0 0 0 0;\n",
       "      width: 32px;\n",
       "    }\n",
       "\n",
       "    .colab-df-convert:hover {\n",
       "      background-color: #E2EBFA;\n",
       "      box-shadow: 0px 1px 2px rgba(60, 64, 67, 0.3), 0px 1px 3px 1px rgba(60, 64, 67, 0.15);\n",
       "      fill: #174EA6;\n",
       "    }\n",
       "\n",
       "    .colab-df-buttons div {\n",
       "      margin-bottom: 4px;\n",
       "    }\n",
       "\n",
       "    [theme=dark] .colab-df-convert {\n",
       "      background-color: #3B4455;\n",
       "      fill: #D2E3FC;\n",
       "    }\n",
       "\n",
       "    [theme=dark] .colab-df-convert:hover {\n",
       "      background-color: #434B5C;\n",
       "      box-shadow: 0px 1px 3px 1px rgba(0, 0, 0, 0.15);\n",
       "      filter: drop-shadow(0px 1px 2px rgba(0, 0, 0, 0.3));\n",
       "      fill: #FFFFFF;\n",
       "    }\n",
       "  </style>\n",
       "\n",
       "    <script>\n",
       "      const buttonEl =\n",
       "        document.querySelector('#df-9bc56595-5769-4c7d-ba32-af00f859cbbd button.colab-df-convert');\n",
       "      buttonEl.style.display =\n",
       "        google.colab.kernel.accessAllowed ? 'block' : 'none';\n",
       "\n",
       "      async function convertToInteractive(key) {\n",
       "        const element = document.querySelector('#df-9bc56595-5769-4c7d-ba32-af00f859cbbd');\n",
       "        const dataTable =\n",
       "          await google.colab.kernel.invokeFunction('convertToInteractive',\n",
       "                                                    [key], {});\n",
       "        if (!dataTable) return;\n",
       "\n",
       "        const docLinkHtml = 'Like what you see? Visit the ' +\n",
       "          '<a target=\"_blank\" href=https://colab.research.google.com/notebooks/data_table.ipynb>data table notebook</a>'\n",
       "          + ' to learn more about interactive tables.';\n",
       "        element.innerHTML = '';\n",
       "        dataTable['output_type'] = 'display_data';\n",
       "        await google.colab.output.renderOutput(dataTable, element);\n",
       "        const docLink = document.createElement('div');\n",
       "        docLink.innerHTML = docLinkHtml;\n",
       "        element.appendChild(docLink);\n",
       "      }\n",
       "    </script>\n",
       "  </div>\n",
       "\n",
       "    </div>\n",
       "  </div>\n"
      ],
      "text/plain": [
       "   14  176  1890s  192  375  40  80  88  8th  90  ...  varieties  vodka  \\\n",
       "0   1    1      1    1    1   3   1   1    1   1  ...          1     21   \n",
       "\n",
       "   vodkaproducing  vodkas  volume  water  whiskey  white  widely  wine  \n",
       "0               1       3       1      3        1      1       1     1  \n",
       "\n",
       "[1 rows x 258 columns]"
      ]
     },
     "execution_count": 39,
     "metadata": {},
     "output_type": "execute_result"
    }
   ],
   "source": [
    "row = pd.DataFrame(vectorized.todense()[0], columns=cv.get_feature_names_out())\n",
    "row"
   ]
  },
  {
   "cell_type": "markdown",
   "metadata": {
    "id": "-rbJjFtWjmSy"
   },
   "source": [
    "We can see that the result is a single row of data (for our single document we passed in, the passage of text on vodka) and each column corresponds to a single unique token that occurred in that document. The number for each column represents the number of occurrences of that token.\n",
    "\n",
    "So as before, albeit with much less code, we now have a count of the number of times each word occurs with the stopwords removed, and we can plot the most frequently occurring words:"
   ]
  },
  {
   "cell_type": "code",
   "execution_count": null,
   "metadata": {
    "colab": {
     "base_uri": "https://localhost:8080/",
     "height": 430
    },
    "id": "49dc36f1",
    "outputId": "afd0c01a-d64a-4846-8221-3e39ed4e088a"
   },
   "outputs": [
    {
     "data": {
      "image/png": "[encoded data removed]",
      "text/plain": [
       "<Figure size 640x480 with 1 Axes>"
      ]
     },
     "metadata": {},
     "output_type": "display_data"
    }
   ],
   "source": [
    "# Plot as before\n",
    "row.T[0].nlargest(10).sort_values().plot(kind='barh')\n",
    "plt.show()"
   ]
  },
  {
   "cell_type": "markdown",
   "metadata": {
    "id": "31b6e586"
   },
   "source": [
    "## Machine Learning for Sentiment Analysis 🤖🧠😀"
   ]
  },
  {
   "cell_type": "markdown",
   "metadata": {
    "id": "2b6200c8"
   },
   "source": [
    "Here we will be apply supervised learning machine learning to a sentiment analysis problem by training a model on labelled data. In particular, we will training one of the simplest types of models, [Logistic Regression](https://en.wikipedia.org/wiki/Logistic_regression), a type of linear classifier.  First we will load and preprocess a labelled text dataset, then fit and use this simple linear model for the binary classification task of positive and negative sentiment.\n",
    "\n",
    "Here we be working a random 10% sample of the [Large Movie Review Dataset](https://www.kaggle.com/datasets/lakshmi25npathi/imdb-dataset-of-50k-movie-reviews), a set of 50,000 \"highly polar\" movie reviews collected from the [Internet Movie Database](https://www.imdb.com).\n",
    "\n",
    "First, we'll read in the data:"
   ]
  },
  {
   "cell_type": "code",
   "execution_count": null,
   "metadata": {
    "id": "02cb5150"
   },
   "outputs": [],
   "source": [
    "import pandas as pd\n",
    "\n",
    "# Download the file from Github\n",
    "reviews_df = pd.read_csv('https://raw.githubusercontent.com/nlpfromscratch/datasets/master/imdb/imdb_reviews_sample.csv')"
   ]
  },
  {
   "cell_type": "markdown",
   "metadata": {
    "id": "4f721eff"
   },
   "source": [
    "As before, we'll need to preprocess our data before we do machine learning. Let's take a look at the data and see what we are working with:"
   ]
  },
  {
   "cell_type": "code",
   "execution_count": null,
   "metadata": {
    "colab": {
     "base_uri": "https://localhost:8080/"
    },
    "id": "12XmIGWgjmS0",
    "outputId": "0b97cdad-b986-4cce-e73b-3785a4371bfb"
   },
   "outputs": [
    {
     "data": {
      "text/plain": [
       "(5000, 2)"
      ]
     },
     "execution_count": 42,
     "metadata": {},
     "output_type": "execute_result"
    }
   ],
   "source": [
    "# How many reviews?\n",
    "reviews_df.shape"
   ]
  },
  {
   "cell_type": "markdown",
   "metadata": {
    "id": "_taHU3ODjmS1"
   },
   "source": [
    "Here we are working with 5,000 movie reviews with two columns of data for each record. Let's take a look at a sample of the data:"
   ]
  },
  {
   "cell_type": "code",
   "execution_count": null,
   "metadata": {
    "colab": {
     "base_uri": "https://localhost:8080/",
     "height": 206
    },
    "id": "f516150c",
    "outputId": "94136405-202f-4d62-db5e-87cfdad94e2b"
   },
   "outputs": [
    {
     "data": {
      "text/html": [
       "\n",
       "  <div id=\"df-5b7aa93e-97a5-4fe7-b37b-12abab4f284c\" class=\"colab-df-container\">\n",
       "    <div>\n",
       "<style scoped>\n",
       "    .dataframe tbody tr th:only-of-type {\n",
       "        vertical-align: middle;\n",
       "    }\n",
       "\n",
       "    .dataframe tbody tr th {\n",
       "        vertical-align: top;\n",
       "    }\n",
       "\n",
       "    .dataframe thead th {\n",
       "        text-align: right;\n",
       "    }\n",
       "</style>\n",
       "<table border=\"1\" class=\"dataframe\">\n",
       "  <thead>\n",
       "    <tr style=\"text-align: right;\">\n",
       "      <th></th>\n",
       "      <th>review</th>\n",
       "      <th>sentiment</th>\n",
       "    </tr>\n",
       "  </thead>\n",
       "  <tbody>\n",
       "    <tr>\n",
       "      <th>0</th>\n",
       "      <td>Valley Girl is an exceptionally well made film...</td>\n",
       "      <td>1</td>\n",
       "    </tr>\n",
       "    <tr>\n",
       "      <th>1</th>\n",
       "      <td>This is one of those inoffensive and mildly en...</td>\n",
       "      <td>0</td>\n",
       "    </tr>\n",
       "    <tr>\n",
       "      <th>2</th>\n",
       "      <td>I really wanted to like this movie - the locat...</td>\n",
       "      <td>0</td>\n",
       "    </tr>\n",
       "    <tr>\n",
       "      <th>3</th>\n",
       "      <td>I attended the premier last night. The movie s...</td>\n",
       "      <td>0</td>\n",
       "    </tr>\n",
       "    <tr>\n",
       "      <th>4</th>\n",
       "      <td>The Deadly Wake is THE PERFECT MOVIE for film ...</td>\n",
       "      <td>0</td>\n",
       "    </tr>\n",
       "  </tbody>\n",
       "</table>\n",
       "</div>\n",
       "    <div class=\"colab-df-buttons\">\n",
       "\n",
       "  <div class=\"colab-df-container\">\n",
       "    <button class=\"colab-df-convert\" onclick=\"convertToInteractive('df-5b7aa93e-97a5-4fe7-b37b-12abab4f284c')\"\n",
       "            title=\"Convert this dataframe to an interactive table.\"\n",
       "            style=\"display:none;\">\n",
       "\n",
       "  <svg xmlns=\"http://www.w3.org/2000/svg\" height=\"24px\" viewBox=\"0 -960 960 960\">\n",
       "    <path d=\"M120-120v-720h720v720H120Zm60-500h600v-160H180v160Zm220 220h160v-160H400v160Zm0 220h160v-160H400v160ZM180-400h160v-160H180v160Zm440 0h160v-160H620v160ZM180-180h160v-160H180v160Zm440 0h160v-160H620v160Z\"/>\n",
       "  </svg>\n",
       "    </button>\n",
       "\n",
       "  <style>\n",
       "    .colab-df-container {\n",
       "      display:flex;\n",
       "      gap: 12px;\n",
       "    }\n",
       "\n",
       "    .colab-df-convert {\n",
       "      background-color: #E8F0FE;\n",
       "      border: none;\n",
       "      border-radius: 50%;\n",
       "      cursor: pointer;\n",
       "      display: none;\n",
       "      fill: #1967D2;\n",
       "      height: 32px;\n",
       "      padding: 0 0 0 0;\n",
       "      width: 32px;\n",
       "    }\n",
       "\n",
       "    .colab-df-convert:hover {\n",
       "      background-color: #E2EBFA;\n",
       "      box-shadow: 0px 1px 2px rgba(60, 64, 67, 0.3), 0px 1px 3px 1px rgba(60, 64, 67, 0.15);\n",
       "      fill: #174EA6;\n",
       "    }\n",
       "\n",
       "    .colab-df-buttons div {\n",
       "      margin-bottom: 4px;\n",
       "    }\n",
       "\n",
       "    [theme=dark] .colab-df-convert {\n",
       "      background-color: #3B4455;\n",
       "      fill: #D2E3FC;\n",
       "    }\n",
       "\n",
       "    [theme=dark] .colab-df-convert:hover {\n",
       "      background-color: #434B5C;\n",
       "      box-shadow: 0px 1px 3px 1px rgba(0, 0, 0, 0.15);\n",
       "      filter: drop-shadow(0px 1px 2px rgba(0, 0, 0, 0.3));\n",
       "      fill: #FFFFFF;\n",
       "    }\n",
       "  </style>\n",
       "\n",
       "    <script>\n",
       "      const buttonEl =\n",
       "        document.querySelector('#df-5b7aa93e-97a5-4fe7-b37b-12abab4f284c button.colab-df-convert');\n",
       "      buttonEl.style.display =\n",
       "        google.colab.kernel.accessAllowed ? 'block' : 'none';\n",
       "\n",
       "      async function convertToInteractive(key) {\n",
       "        const element = document.querySelector('#df-5b7aa93e-97a5-4fe7-b37b-12abab4f284c');\n",
       "        const dataTable =\n",
       "          await google.colab.kernel.invokeFunction('convertToInteractive',\n",
       "                                                    [key], {});\n",
       "        if (!dataTable) return;\n",
       "\n",
       "        const docLinkHtml = 'Like what you see? Visit the ' +\n",
       "          '<a target=\"_blank\" href=https://colab.research.google.com/notebooks/data_table.ipynb>data table notebook</a>'\n",
       "          + ' to learn more about interactive tables.';\n",
       "        element.innerHTML = '';\n",
       "        dataTable['output_type'] = 'display_data';\n",
       "        await google.colab.output.renderOutput(dataTable, element);\n",
       "        const docLink = document.createElement('div');\n",
       "        docLink.innerHTML = docLinkHtml;\n",
       "        element.appendChild(docLink);\n",
       "      }\n",
       "    </script>\n",
       "  </div>\n",
       "\n",
       "\n",
       "<div id=\"df-adf02cc8-1c07-4a19-afb7-70e6569e6050\">\n",
       "  <button class=\"colab-df-quickchart\" onclick=\"quickchart('df-adf02cc8-1c07-4a19-afb7-70e6569e6050')\"\n",
       "            title=\"Suggest charts\"\n",
       "            style=\"display:none;\">\n",
       "\n",
       "<svg xmlns=\"http://www.w3.org/2000/svg\" height=\"24px\"viewBox=\"0 0 24 24\"\n",
       "     width=\"24px\">\n",
       "    <g>\n",
       "        <path d=\"M19 3H5c-1.1 0-2 .9-2 2v14c0 1.1.9 2 2 2h14c1.1 0 2-.9 2-2V5c0-1.1-.9-2-2-2zM9 17H7v-7h2v7zm4 0h-2V7h2v10zm4 0h-2v-4h2v4z\"/>\n",
       "    </g>\n",
       "</svg>\n",
       "  </button>\n",
       "\n",
       "<style>\n",
       "  .colab-df-quickchart {\n",
       "      --bg-color: #E8F0FE;\n",
       "      --fill-color: #1967D2;\n",
       "      --hover-bg-color: #E2EBFA;\n",
       "      --hover-fill-color: #174EA6;\n",
       "      --disabled-fill-color: #AAA;\n",
       "      --disabled-bg-color: #DDD;\n",
       "  }\n",
       "\n",
       "  [theme=dark] .colab-df-quickchart {\n",
       "      --bg-color: #3B4455;\n",
       "      --fill-color: #D2E3FC;\n",
       "      --hover-bg-color: #434B5C;\n",
       "      --hover-fill-color: #FFFFFF;\n",
       "      --disabled-bg-color: #3B4455;\n",
       "      --disabled-fill-color: #666;\n",
       "  }\n",
       "\n",
       "  .colab-df-quickchart {\n",
       "    background-color: var(--bg-color);\n",
       "    border: none;\n",
       "    border-radius: 50%;\n",
       "    cursor: pointer;\n",
       "    display: none;\n",
       "    fill: var(--fill-color);\n",
       "    height: 32px;\n",
       "    padding: 0;\n",
       "    width: 32px;\n",
       "  }\n",
       "\n",
       "  .colab-df-quickchart:hover {\n",
       "    background-color: var(--hover-bg-color);\n",
       "    box-shadow: 0 1px 2px rgba(60, 64, 67, 0.3), 0 1px 3px 1px rgba(60, 64, 67, 0.15);\n",
       "    fill: var(--button-hover-fill-color);\n",
       "  }\n",
       "\n",
       "  .colab-df-quickchart-complete:disabled,\n",
       "  .colab-df-quickchart-complete:disabled:hover {\n",
       "    background-color: var(--disabled-bg-color);\n",
       "    fill: var(--disabled-fill-color);\n",
       "    box-shadow: none;\n",
       "  }\n",
       "\n",
       "  .colab-df-spinner {\n",
       "    border: 2px solid var(--fill-color);\n",
       "    border-color: transparent;\n",
       "    border-bottom-color: var(--fill-color);\n",
       "    animation:\n",
       "      spin 1s steps(1) infinite;\n",
       "  }\n",
       "\n",
       "  @keyframes spin {\n",
       "    0% {\n",
       "      border-color: transparent;\n",
       "      border-bottom-color: var(--fill-color);\n",
       "      border-left-color: var(--fill-color);\n",
       "    }\n",
       "    20% {\n",
       "      border-color: transparent;\n",
       "      border-left-color: var(--fill-color);\n",
       "      border-top-color: var(--fill-color);\n",
       "    }\n",
       "    30% {\n",
       "      border-color: transparent;\n",
       "      border-left-color: var(--fill-color);\n",
       "      border-top-color: var(--fill-color);\n",
       "      border-right-color: var(--fill-color);\n",
       "    }\n",
       "    40% {\n",
       "      border-color: transparent;\n",
       "      border-right-color: var(--fill-color);\n",
       "      border-top-color: var(--fill-color);\n",
       "    }\n",
       "    60% {\n",
       "      border-color: transparent;\n",
       "      border-right-color: var(--fill-color);\n",
       "    }\n",
       "    80% {\n",
       "      border-color: transparent;\n",
       "      border-right-color: var(--fill-color);\n",
       "      border-bottom-color: var(--fill-color);\n",
       "    }\n",
       "    90% {\n",
       "      border-color: transparent;\n",
       "      border-bottom-color: var(--fill-color);\n",
       "    }\n",
       "  }\n",
       "</style>\n",
       "\n",
       "  <script>\n",
       "    async function quickchart(key) {\n",
       "      const quickchartButtonEl =\n",
       "        document.querySelector('#' + key + ' button');\n",
       "      quickchartButtonEl.disabled = true;  // To prevent multiple clicks.\n",
       "      quickchartButtonEl.classList.add('colab-df-spinner');\n",
       "      try {\n",
       "        const charts = await google.colab.kernel.invokeFunction(\n",
       "            'suggestCharts', [key], {});\n",
       "      } catch (error) {\n",
       "        console.error('Error during call to suggestCharts:', error);\n",
       "      }\n",
       "      quickchartButtonEl.classList.remove('colab-df-spinner');\n",
       "      quickchartButtonEl.classList.add('colab-df-quickchart-complete');\n",
       "    }\n",
       "    (() => {\n",
       "      let quickchartButtonEl =\n",
       "        document.querySelector('#df-adf02cc8-1c07-4a19-afb7-70e6569e6050 button');\n",
       "      quickchartButtonEl.style.display =\n",
       "        google.colab.kernel.accessAllowed ? 'block' : 'none';\n",
       "    })();\n",
       "  </script>\n",
       "</div>\n",
       "    </div>\n",
       "  </div>\n"
      ],
      "text/plain": [
       "                                              review  sentiment\n",
       "0  Valley Girl is an exceptionally well made film...          1\n",
       "1  This is one of those inoffensive and mildly en...          0\n",
       "2  I really wanted to like this movie - the locat...          0\n",
       "3  I attended the premier last night. The movie s...          0\n",
       "4  The Deadly Wake is THE PERFECT MOVIE for film ...          0"
      ]
     },
     "execution_count": 43,
     "metadata": {},
     "output_type": "execute_result"
    }
   ],
   "source": [
    "reviews_df.head()"
   ]
  },
  {
   "cell_type": "markdown",
   "metadata": {
    "id": "3a1a9bd5"
   },
   "source": [
    "We can see that the there are two columns, the free-form text in the column `review`, and the sentiment class label in the column `sentiment`, with a zero (0) for negative reviews and one (1) for positive reviews. We can also see that we'll need to do some text preprocessing, as there are different letter cases and punctuation present in the review text:"
   ]
  },
  {
   "cell_type": "code",
   "execution_count": null,
   "metadata": {
    "colab": {
     "base_uri": "https://localhost:8080/",
     "height": 89
    },
    "id": "7uU2eVWpjmS1",
    "outputId": "ff12c37c-0698-4700-ea3f-8cfaa008e9f4"
   },
   "outputs": [
    {
     "data": {
      "application/vnd.google.colaboratory.intrinsic+json": {
       "type": "string"
      },
      "text/plain": [
       "'Valley Girl is an exceptionally well made film with an all-around great cast. Even though the dialogue is a bit dated now, when the movie was released it was very hip. To this day, I know many people (teenagers included) that cannot form a sentence without using the word \"like\". That is without a doubt the legacy this movie will leave. A rating of 8 was given for this, like, most excellent movie.'"
      ]
     },
     "metadata": {},
     "output_type": "display_data"
    }
   ],
   "source": [
    "# First 1K characters of the first review\n",
    "display(reviews_df['review'][0][0:1000])"
   ]
  },
  {
   "cell_type": "markdown",
   "metadata": {
    "id": "SUdW2t5SjmS2"
   },
   "source": [
    "Because we have already covered preprocessing above, we will gloss over the details here and apply the necessary steps all at once. Only here now, we are applying the preprocessing steps to all documents (reviews) in our corpus, instead of a single piece of text."
   ]
  },
  {
   "cell_type": "code",
   "execution_count": null,
   "metadata": {
    "colab": {
     "base_uri": "https://localhost:8080/",
     "height": 261
    },
    "id": "0qREwJmJjmS2",
    "outputId": "68ed4bc6-8652-42fd-d987-b63373718419"
   },
   "outputs": [
    {
     "name": "stderr",
     "output_type": "stream",
     "text": [
      "<ipython-input-45-8988d84c8c5e>:8: FutureWarning: The default value of regex will change from True to False in a future version.\n",
      "  processed_df['review'] = processed_df['review'].str.replace(r'[^\\w\\s]+', '')\n"
     ]
    },
    {
     "data": {
      "text/html": [
       "\n",
       "  <div id=\"df-7b29f5b3-7e0b-44d0-aefe-386677f581c5\" class=\"colab-df-container\">\n",
       "    <div>\n",
       "<style scoped>\n",
       "    .dataframe tbody tr th:only-of-type {\n",
       "        vertical-align: middle;\n",
       "    }\n",
       "\n",
       "    .dataframe tbody tr th {\n",
       "        vertical-align: top;\n",
       "    }\n",
       "\n",
       "    .dataframe thead th {\n",
       "        text-align: right;\n",
       "    }\n",
       "</style>\n",
       "<table border=\"1\" class=\"dataframe\">\n",
       "  <thead>\n",
       "    <tr style=\"text-align: right;\">\n",
       "      <th></th>\n",
       "      <th>review</th>\n",
       "      <th>sentiment</th>\n",
       "    </tr>\n",
       "  </thead>\n",
       "  <tbody>\n",
       "    <tr>\n",
       "      <th>0</th>\n",
       "      <td>valley girl is an exceptionally well made film...</td>\n",
       "      <td>1</td>\n",
       "    </tr>\n",
       "    <tr>\n",
       "      <th>1</th>\n",
       "      <td>this is one of those inoffensive and mildly en...</td>\n",
       "      <td>0</td>\n",
       "    </tr>\n",
       "    <tr>\n",
       "      <th>2</th>\n",
       "      <td>i really wanted to like this movie  the locati...</td>\n",
       "      <td>0</td>\n",
       "    </tr>\n",
       "    <tr>\n",
       "      <th>3</th>\n",
       "      <td>i attended the premier last night the movie st...</td>\n",
       "      <td>0</td>\n",
       "    </tr>\n",
       "    <tr>\n",
       "      <th>4</th>\n",
       "      <td>the deadly wake is the perfect movie for film ...</td>\n",
       "      <td>0</td>\n",
       "    </tr>\n",
       "  </tbody>\n",
       "</table>\n",
       "</div>\n",
       "    <div class=\"colab-df-buttons\">\n",
       "\n",
       "  <div class=\"colab-df-container\">\n",
       "    <button class=\"colab-df-convert\" onclick=\"convertToInteractive('df-7b29f5b3-7e0b-44d0-aefe-386677f581c5')\"\n",
       "            title=\"Convert this dataframe to an interactive table.\"\n",
       "            style=\"display:none;\">\n",
       "\n",
       "  <svg xmlns=\"http://www.w3.org/2000/svg\" height=\"24px\" viewBox=\"0 -960 960 960\">\n",
       "    <path d=\"M120-120v-720h720v720H120Zm60-500h600v-160H180v160Zm220 220h160v-160H400v160Zm0 220h160v-160H400v160ZM180-400h160v-160H180v160Zm440 0h160v-160H620v160ZM180-180h160v-160H180v160Zm440 0h160v-160H620v160Z\"/>\n",
       "  </svg>\n",
       "    </button>\n",
       "\n",
       "  <style>\n",
       "    .colab-df-container {\n",
       "      display:flex;\n",
       "      gap: 12px;\n",
       "    }\n",
       "\n",
       "    .colab-df-convert {\n",
       "      background-color: #E8F0FE;\n",
       "      border: none;\n",
       "      border-radius: 50%;\n",
       "      cursor: pointer;\n",
       "      display: none;\n",
       "      fill: #1967D2;\n",
       "      height: 32px;\n",
       "      padding: 0 0 0 0;\n",
       "      width: 32px;\n",
       "    }\n",
       "\n",
       "    .colab-df-convert:hover {\n",
       "      background-color: #E2EBFA;\n",
       "      box-shadow: 0px 1px 2px rgba(60, 64, 67, 0.3), 0px 1px 3px 1px rgba(60, 64, 67, 0.15);\n",
       "      fill: #174EA6;\n",
       "    }\n",
       "\n",
       "    .colab-df-buttons div {\n",
       "      margin-bottom: 4px;\n",
       "    }\n",
       "\n",
       "    [theme=dark] .colab-df-convert {\n",
       "      background-color: #3B4455;\n",
       "      fill: #D2E3FC;\n",
       "    }\n",
       "\n",
       "    [theme=dark] .colab-df-convert:hover {\n",
       "      background-color: #434B5C;\n",
       "      box-shadow: 0px 1px 3px 1px rgba(0, 0, 0, 0.15);\n",
       "      filter: drop-shadow(0px 1px 2px rgba(0, 0, 0, 0.3));\n",
       "      fill: #FFFFFF;\n",
       "    }\n",
       "  </style>\n",
       "\n",
       "    <script>\n",
       "      const buttonEl =\n",
       "        document.querySelector('#df-7b29f5b3-7e0b-44d0-aefe-386677f581c5 button.colab-df-convert');\n",
       "      buttonEl.style.display =\n",
       "        google.colab.kernel.accessAllowed ? 'block' : 'none';\n",
       "\n",
       "      async function convertToInteractive(key) {\n",
       "        const element = document.querySelector('#df-7b29f5b3-7e0b-44d0-aefe-386677f581c5');\n",
       "        const dataTable =\n",
       "          await google.colab.kernel.invokeFunction('convertToInteractive',\n",
       "                                                    [key], {});\n",
       "        if (!dataTable) return;\n",
       "\n",
       "        const docLinkHtml = 'Like what you see? Visit the ' +\n",
       "          '<a target=\"_blank\" href=https://colab.research.google.com/notebooks/data_table.ipynb>data table notebook</a>'\n",
       "          + ' to learn more about interactive tables.';\n",
       "        element.innerHTML = '';\n",
       "        dataTable['output_type'] = 'display_data';\n",
       "        await google.colab.output.renderOutput(dataTable, element);\n",
       "        const docLink = document.createElement('div');\n",
       "        docLink.innerHTML = docLinkHtml;\n",
       "        element.appendChild(docLink);\n",
       "      }\n",
       "    </script>\n",
       "  </div>\n",
       "\n",
       "\n",
       "<div id=\"df-4c92d3cd-71f1-40dc-a48a-a33e06f81fe9\">\n",
       "  <button class=\"colab-df-quickchart\" onclick=\"quickchart('df-4c92d3cd-71f1-40dc-a48a-a33e06f81fe9')\"\n",
       "            title=\"Suggest charts\"\n",
       "            style=\"display:none;\">\n",
       "\n",
       "<svg xmlns=\"http://www.w3.org/2000/svg\" height=\"24px\"viewBox=\"0 0 24 24\"\n",
       "     width=\"24px\">\n",
       "    <g>\n",
       "        <path d=\"M19 3H5c-1.1 0-2 .9-2 2v14c0 1.1.9 2 2 2h14c1.1 0 2-.9 2-2V5c0-1.1-.9-2-2-2zM9 17H7v-7h2v7zm4 0h-2V7h2v10zm4 0h-2v-4h2v4z\"/>\n",
       "    </g>\n",
       "</svg>\n",
       "  </button>\n",
       "\n",
       "<style>\n",
       "  .colab-df-quickchart {\n",
       "      --bg-color: #E8F0FE;\n",
       "      --fill-color: #1967D2;\n",
       "      --hover-bg-color: #E2EBFA;\n",
       "      --hover-fill-color: #174EA6;\n",
       "      --disabled-fill-color: #AAA;\n",
       "      --disabled-bg-color: #DDD;\n",
       "  }\n",
       "\n",
       "  [theme=dark] .colab-df-quickchart {\n",
       "      --bg-color: #3B4455;\n",
       "      --fill-color: #D2E3FC;\n",
       "      --hover-bg-color: #434B5C;\n",
       "      --hover-fill-color: #FFFFFF;\n",
       "      --disabled-bg-color: #3B4455;\n",
       "      --disabled-fill-color: #666;\n",
       "  }\n",
       "\n",
       "  .colab-df-quickchart {\n",
       "    background-color: var(--bg-color);\n",
       "    border: none;\n",
       "    border-radius: 50%;\n",
       "    cursor: pointer;\n",
       "    display: none;\n",
       "    fill: var(--fill-color);\n",
       "    height: 32px;\n",
       "    padding: 0;\n",
       "    width: 32px;\n",
       "  }\n",
       "\n",
       "  .colab-df-quickchart:hover {\n",
       "    background-color: var(--hover-bg-color);\n",
       "    box-shadow: 0 1px 2px rgba(60, 64, 67, 0.3), 0 1px 3px 1px rgba(60, 64, 67, 0.15);\n",
       "    fill: var(--button-hover-fill-color);\n",
       "  }\n",
       "\n",
       "  .colab-df-quickchart-complete:disabled,\n",
       "  .colab-df-quickchart-complete:disabled:hover {\n",
       "    background-color: var(--disabled-bg-color);\n",
       "    fill: var(--disabled-fill-color);\n",
       "    box-shadow: none;\n",
       "  }\n",
       "\n",
       "  .colab-df-spinner {\n",
       "    border: 2px solid var(--fill-color);\n",
       "    border-color: transparent;\n",
       "    border-bottom-color: var(--fill-color);\n",
       "    animation:\n",
       "      spin 1s steps(1) infinite;\n",
       "  }\n",
       "\n",
       "  @keyframes spin {\n",
       "    0% {\n",
       "      border-color: transparent;\n",
       "      border-bottom-color: var(--fill-color);\n",
       "      border-left-color: var(--fill-color);\n",
       "    }\n",
       "    20% {\n",
       "      border-color: transparent;\n",
       "      border-left-color: var(--fill-color);\n",
       "      border-top-color: var(--fill-color);\n",
       "    }\n",
       "    30% {\n",
       "      border-color: transparent;\n",
       "      border-left-color: var(--fill-color);\n",
       "      border-top-color: var(--fill-color);\n",
       "      border-right-color: var(--fill-color);\n",
       "    }\n",
       "    40% {\n",
       "      border-color: transparent;\n",
       "      border-right-color: var(--fill-color);\n",
       "      border-top-color: var(--fill-color);\n",
       "    }\n",
       "    60% {\n",
       "      border-color: transparent;\n",
       "      border-right-color: var(--fill-color);\n",
       "    }\n",
       "    80% {\n",
       "      border-color: transparent;\n",
       "      border-right-color: var(--fill-color);\n",
       "      border-bottom-color: var(--fill-color);\n",
       "    }\n",
       "    90% {\n",
       "      border-color: transparent;\n",
       "      border-bottom-color: var(--fill-color);\n",
       "    }\n",
       "  }\n",
       "</style>\n",
       "\n",
       "  <script>\n",
       "    async function quickchart(key) {\n",
       "      const quickchartButtonEl =\n",
       "        document.querySelector('#' + key + ' button');\n",
       "      quickchartButtonEl.disabled = true;  // To prevent multiple clicks.\n",
       "      quickchartButtonEl.classList.add('colab-df-spinner');\n",
       "      try {\n",
       "        const charts = await google.colab.kernel.invokeFunction(\n",
       "            'suggestCharts', [key], {});\n",
       "      } catch (error) {\n",
       "        console.error('Error during call to suggestCharts:', error);\n",
       "      }\n",
       "      quickchartButtonEl.classList.remove('colab-df-spinner');\n",
       "      quickchartButtonEl.classList.add('colab-df-quickchart-complete');\n",
       "    }\n",
       "    (() => {\n",
       "      let quickchartButtonEl =\n",
       "        document.querySelector('#df-4c92d3cd-71f1-40dc-a48a-a33e06f81fe9 button');\n",
       "      quickchartButtonEl.style.display =\n",
       "        google.colab.kernel.accessAllowed ? 'block' : 'none';\n",
       "    })();\n",
       "  </script>\n",
       "</div>\n",
       "    </div>\n",
       "  </div>\n"
      ],
      "text/plain": [
       "                                              review  sentiment\n",
       "0  valley girl is an exceptionally well made film...          1\n",
       "1  this is one of those inoffensive and mildly en...          0\n",
       "2  i really wanted to like this movie  the locati...          0\n",
       "3  i attended the premier last night the movie st...          0\n",
       "4  the deadly wake is the perfect movie for film ...          0"
      ]
     },
     "execution_count": 45,
     "metadata": {},
     "output_type": "execute_result"
    }
   ],
   "source": [
    "# Make a copy of the original dataframe\n",
    "processed_df = reviews_df.copy()\n",
    "\n",
    "# Change everything to lowercase\n",
    "processed_df['review'] = processed_df['review'].str.lower()\n",
    "\n",
    "# Remove punctuation with regular expression\n",
    "processed_df['review'] = processed_df['review'].str.replace(r'[^\\w\\s]+', '')\n",
    "\n",
    "# Check\n",
    "processed_df.head()"
   ]
  },
  {
   "cell_type": "markdown",
   "metadata": {
    "id": "JJDypAy4jmS2"
   },
   "source": [
    "Now we have normalized all 5K movie reviews with only a few lines of code!\n",
    "\n",
    "Let's check the result on the first movie review:"
   ]
  },
  {
   "cell_type": "code",
   "execution_count": null,
   "metadata": {
    "colab": {
     "base_uri": "https://localhost:8080/",
     "height": 89
    },
    "id": "6zBKys5ljmS2",
    "outputId": "5fae1735-ffd3-4738-f929-1ac6f1e81ec6"
   },
   "outputs": [
    {
     "data": {
      "application/vnd.google.colaboratory.intrinsic+json": {
       "type": "string"
      },
      "text/plain": [
       "'valley girl is an exceptionally well made film with an allaround great cast even though the dialogue is a bit dated now when the movie was released it was very hip to this day i know many people teenagers included that cannot form a sentence without using the word like that is without a doubt the legacy this movie will leave a rating of 8 was given for this like most excellent movie'"
      ]
     },
     "execution_count": 44,
     "metadata": {},
     "output_type": "execute_result"
    }
   ],
   "source": [
    "# Check\n",
    "processed_df['review'][0][0:1000]"
   ]
  },
  {
   "cell_type": "markdown",
   "metadata": {
    "id": "aQR-2ppgjmS3"
   },
   "source": [
    "Looks good, now we can apply vectorization via sklearn, to get numeric data suitable for machine learning, as we did in the previous section:"
   ]
  },
  {
   "cell_type": "code",
   "execution_count": null,
   "metadata": {
    "colab": {
     "base_uri": "https://localhost:8080/"
    },
    "id": "JlkH69PojmS3",
    "outputId": "a599f665-1a2c-421e-b031-60493b47e859"
   },
   "outputs": [
    {
     "data": {
      "text/plain": [
       "<5000x1565 sparse matrix of type '<class 'numpy.int64'>'\n",
       "\twith 269110 stored elements in Compressed Sparse Row format>"
      ]
     },
     "execution_count": 46,
     "metadata": {},
     "output_type": "execute_result"
    }
   ],
   "source": [
    "# Apply count vectorization and remove stopwords\n",
    "# Use the min_df parameter to only keep tokens which appear in at least 1% of documents (50 reviews or more)\n",
    "from sklearn.feature_extraction.text import CountVectorizer\n",
    "\n",
    "cv = CountVectorizer(stop_words='english', min_df=0.01)\n",
    "X = cv.fit_transform(reviews_df['review'])\n",
    "X"
   ]
  },
  {
   "cell_type": "markdown",
   "metadata": {
    "id": "f6WZ13U8jmS3"
   },
   "source": [
    "We can see that we have a 5,000 row dataframe with 1,565 columns - which are the features made up of the token counts. Before we only had a single row of data returned, but now we have 5000 rows, 1 for each movie review. This matrix is sparse, so let's convert it to a nice dataframe for convenience. We will also use the tokens stored in the count vectorizer as the feature names to be the column names as seen previously:"
   ]
  },
  {
   "cell_type": "code",
   "execution_count": null,
   "metadata": {
    "colab": {
     "base_uri": "https://localhost:8080/",
     "height": 235
    },
    "id": "4JTAZh3vjmS3",
    "outputId": "ead88f35-c851-452a-fbd9-7a0eb10858f7"
   },
   "outputs": [
    {
     "data": {
      "text/html": [
       "\n",
       "  <div id=\"df-6a3f6af2-5e9c-43c1-96a0-796ec60abad9\" class=\"colab-df-container\">\n",
       "    <div>\n",
       "<style scoped>\n",
       "    .dataframe tbody tr th:only-of-type {\n",
       "        vertical-align: middle;\n",
       "    }\n",
       "\n",
       "    .dataframe tbody tr th {\n",
       "        vertical-align: top;\n",
       "    }\n",
       "\n",
       "    .dataframe thead th {\n",
       "        text-align: right;\n",
       "    }\n",
       "</style>\n",
       "<table border=\"1\" class=\"dataframe\">\n",
       "  <thead>\n",
       "    <tr style=\"text-align: right;\">\n",
       "      <th></th>\n",
       "      <th>10</th>\n",
       "      <th>100</th>\n",
       "      <th>11</th>\n",
       "      <th>12</th>\n",
       "      <th>13</th>\n",
       "      <th>15</th>\n",
       "      <th>20</th>\n",
       "      <th>30</th>\n",
       "      <th>40</th>\n",
       "      <th>50</th>\n",
       "      <th>...</th>\n",
       "      <th>wrong</th>\n",
       "      <th>wrote</th>\n",
       "      <th>yeah</th>\n",
       "      <th>year</th>\n",
       "      <th>years</th>\n",
       "      <th>yes</th>\n",
       "      <th>york</th>\n",
       "      <th>young</th>\n",
       "      <th>younger</th>\n",
       "      <th>zero</th>\n",
       "    </tr>\n",
       "  </thead>\n",
       "  <tbody>\n",
       "    <tr>\n",
       "      <th>0</th>\n",
       "      <td>0</td>\n",
       "      <td>0</td>\n",
       "      <td>0</td>\n",
       "      <td>0</td>\n",
       "      <td>0</td>\n",
       "      <td>0</td>\n",
       "      <td>0</td>\n",
       "      <td>0</td>\n",
       "      <td>0</td>\n",
       "      <td>0</td>\n",
       "      <td>...</td>\n",
       "      <td>0</td>\n",
       "      <td>0</td>\n",
       "      <td>0</td>\n",
       "      <td>0</td>\n",
       "      <td>0</td>\n",
       "      <td>0</td>\n",
       "      <td>0</td>\n",
       "      <td>0</td>\n",
       "      <td>0</td>\n",
       "      <td>0</td>\n",
       "    </tr>\n",
       "    <tr>\n",
       "      <th>1</th>\n",
       "      <td>0</td>\n",
       "      <td>0</td>\n",
       "      <td>0</td>\n",
       "      <td>0</td>\n",
       "      <td>0</td>\n",
       "      <td>0</td>\n",
       "      <td>0</td>\n",
       "      <td>0</td>\n",
       "      <td>0</td>\n",
       "      <td>0</td>\n",
       "      <td>...</td>\n",
       "      <td>0</td>\n",
       "      <td>0</td>\n",
       "      <td>0</td>\n",
       "      <td>0</td>\n",
       "      <td>0</td>\n",
       "      <td>0</td>\n",
       "      <td>0</td>\n",
       "      <td>0</td>\n",
       "      <td>0</td>\n",
       "      <td>0</td>\n",
       "    </tr>\n",
       "    <tr>\n",
       "      <th>2</th>\n",
       "      <td>0</td>\n",
       "      <td>0</td>\n",
       "      <td>0</td>\n",
       "      <td>0</td>\n",
       "      <td>0</td>\n",
       "      <td>0</td>\n",
       "      <td>0</td>\n",
       "      <td>0</td>\n",
       "      <td>0</td>\n",
       "      <td>0</td>\n",
       "      <td>...</td>\n",
       "      <td>0</td>\n",
       "      <td>0</td>\n",
       "      <td>0</td>\n",
       "      <td>0</td>\n",
       "      <td>0</td>\n",
       "      <td>0</td>\n",
       "      <td>0</td>\n",
       "      <td>0</td>\n",
       "      <td>0</td>\n",
       "      <td>0</td>\n",
       "    </tr>\n",
       "    <tr>\n",
       "      <th>3</th>\n",
       "      <td>0</td>\n",
       "      <td>0</td>\n",
       "      <td>0</td>\n",
       "      <td>0</td>\n",
       "      <td>0</td>\n",
       "      <td>1</td>\n",
       "      <td>0</td>\n",
       "      <td>0</td>\n",
       "      <td>0</td>\n",
       "      <td>0</td>\n",
       "      <td>...</td>\n",
       "      <td>1</td>\n",
       "      <td>0</td>\n",
       "      <td>0</td>\n",
       "      <td>0</td>\n",
       "      <td>0</td>\n",
       "      <td>0</td>\n",
       "      <td>0</td>\n",
       "      <td>0</td>\n",
       "      <td>0</td>\n",
       "      <td>0</td>\n",
       "    </tr>\n",
       "    <tr>\n",
       "      <th>4</th>\n",
       "      <td>0</td>\n",
       "      <td>0</td>\n",
       "      <td>0</td>\n",
       "      <td>0</td>\n",
       "      <td>0</td>\n",
       "      <td>1</td>\n",
       "      <td>0</td>\n",
       "      <td>0</td>\n",
       "      <td>0</td>\n",
       "      <td>0</td>\n",
       "      <td>...</td>\n",
       "      <td>0</td>\n",
       "      <td>0</td>\n",
       "      <td>0</td>\n",
       "      <td>0</td>\n",
       "      <td>0</td>\n",
       "      <td>0</td>\n",
       "      <td>0</td>\n",
       "      <td>0</td>\n",
       "      <td>0</td>\n",
       "      <td>0</td>\n",
       "    </tr>\n",
       "  </tbody>\n",
       "</table>\n",
       "<p>5 rows × 1565 columns</p>\n",
       "</div>\n",
       "    <div class=\"colab-df-buttons\">\n",
       "\n",
       "  <div class=\"colab-df-container\">\n",
       "    <button class=\"colab-df-convert\" onclick=\"convertToInteractive('df-6a3f6af2-5e9c-43c1-96a0-796ec60abad9')\"\n",
       "            title=\"Convert this dataframe to an interactive table.\"\n",
       "            style=\"display:none;\">\n",
       "\n",
       "  <svg xmlns=\"http://www.w3.org/2000/svg\" height=\"24px\" viewBox=\"0 -960 960 960\">\n",
       "    <path d=\"M120-120v-720h720v720H120Zm60-500h600v-160H180v160Zm220 220h160v-160H400v160Zm0 220h160v-160H400v160ZM180-400h160v-160H180v160Zm440 0h160v-160H620v160ZM180-180h160v-160H180v160Zm440 0h160v-160H620v160Z\"/>\n",
       "  </svg>\n",
       "    </button>\n",
       "\n",
       "  <style>\n",
       "    .colab-df-container {\n",
       "      display:flex;\n",
       "      gap: 12px;\n",
       "    }\n",
       "\n",
       "    .colab-df-convert {\n",
       "      background-color: #E8F0FE;\n",
       "      border: none;\n",
       "      border-radius: 50%;\n",
       "      cursor: pointer;\n",
       "      display: none;\n",
       "      fill: #1967D2;\n",
       "      height: 32px;\n",
       "      padding: 0 0 0 0;\n",
       "      width: 32px;\n",
       "    }\n",
       "\n",
       "    .colab-df-convert:hover {\n",
       "      background-color: #E2EBFA;\n",
       "      box-shadow: 0px 1px 2px rgba(60, 64, 67, 0.3), 0px 1px 3px 1px rgba(60, 64, 67, 0.15);\n",
       "      fill: #174EA6;\n",
       "    }\n",
       "\n",
       "    .colab-df-buttons div {\n",
       "      margin-bottom: 4px;\n",
       "    }\n",
       "\n",
       "    [theme=dark] .colab-df-convert {\n",
       "      background-color: #3B4455;\n",
       "      fill: #D2E3FC;\n",
       "    }\n",
       "\n",
       "    [theme=dark] .colab-df-convert:hover {\n",
       "      background-color: #434B5C;\n",
       "      box-shadow: 0px 1px 3px 1px rgba(0, 0, 0, 0.15);\n",
       "      filter: drop-shadow(0px 1px 2px rgba(0, 0, 0, 0.3));\n",
       "      fill: #FFFFFF;\n",
       "    }\n",
       "  </style>\n",
       "\n",
       "    <script>\n",
       "      const buttonEl =\n",
       "        document.querySelector('#df-6a3f6af2-5e9c-43c1-96a0-796ec60abad9 button.colab-df-convert');\n",
       "      buttonEl.style.display =\n",
       "        google.colab.kernel.accessAllowed ? 'block' : 'none';\n",
       "\n",
       "      async function convertToInteractive(key) {\n",
       "        const element = document.querySelector('#df-6a3f6af2-5e9c-43c1-96a0-796ec60abad9');\n",
       "        const dataTable =\n",
       "          await google.colab.kernel.invokeFunction('convertToInteractive',\n",
       "                                                    [key], {});\n",
       "        if (!dataTable) return;\n",
       "\n",
       "        const docLinkHtml = 'Like what you see? Visit the ' +\n",
       "          '<a target=\"_blank\" href=https://colab.research.google.com/notebooks/data_table.ipynb>data table notebook</a>'\n",
       "          + ' to learn more about interactive tables.';\n",
       "        element.innerHTML = '';\n",
       "        dataTable['output_type'] = 'display_data';\n",
       "        await google.colab.output.renderOutput(dataTable, element);\n",
       "        const docLink = document.createElement('div');\n",
       "        docLink.innerHTML = docLinkHtml;\n",
       "        element.appendChild(docLink);\n",
       "      }\n",
       "    </script>\n",
       "  </div>\n",
       "\n",
       "\n",
       "<div id=\"df-ab301cc3-d162-4674-b92f-6f44d7947d2f\">\n",
       "  <button class=\"colab-df-quickchart\" onclick=\"quickchart('df-ab301cc3-d162-4674-b92f-6f44d7947d2f')\"\n",
       "            title=\"Suggest charts\"\n",
       "            style=\"display:none;\">\n",
       "\n",
       "<svg xmlns=\"http://www.w3.org/2000/svg\" height=\"24px\"viewBox=\"0 0 24 24\"\n",
       "     width=\"24px\">\n",
       "    <g>\n",
       "        <path d=\"M19 3H5c-1.1 0-2 .9-2 2v14c0 1.1.9 2 2 2h14c1.1 0 2-.9 2-2V5c0-1.1-.9-2-2-2zM9 17H7v-7h2v7zm4 0h-2V7h2v10zm4 0h-2v-4h2v4z\"/>\n",
       "    </g>\n",
       "</svg>\n",
       "  </button>\n",
       "\n",
       "<style>\n",
       "  .colab-df-quickchart {\n",
       "      --bg-color: #E8F0FE;\n",
       "      --fill-color: #1967D2;\n",
       "      --hover-bg-color: #E2EBFA;\n",
       "      --hover-fill-color: #174EA6;\n",
       "      --disabled-fill-color: #AAA;\n",
       "      --disabled-bg-color: #DDD;\n",
       "  }\n",
       "\n",
       "  [theme=dark] .colab-df-quickchart {\n",
       "      --bg-color: #3B4455;\n",
       "      --fill-color: #D2E3FC;\n",
       "      --hover-bg-color: #434B5C;\n",
       "      --hover-fill-color: #FFFFFF;\n",
       "      --disabled-bg-color: #3B4455;\n",
       "      --disabled-fill-color: #666;\n",
       "  }\n",
       "\n",
       "  .colab-df-quickchart {\n",
       "    background-color: var(--bg-color);\n",
       "    border: none;\n",
       "    border-radius: 50%;\n",
       "    cursor: pointer;\n",
       "    display: none;\n",
       "    fill: var(--fill-color);\n",
       "    height: 32px;\n",
       "    padding: 0;\n",
       "    width: 32px;\n",
       "  }\n",
       "\n",
       "  .colab-df-quickchart:hover {\n",
       "    background-color: var(--hover-bg-color);\n",
       "    box-shadow: 0 1px 2px rgba(60, 64, 67, 0.3), 0 1px 3px 1px rgba(60, 64, 67, 0.15);\n",
       "    fill: var(--button-hover-fill-color);\n",
       "  }\n",
       "\n",
       "  .colab-df-quickchart-complete:disabled,\n",
       "  .colab-df-quickchart-complete:disabled:hover {\n",
       "    background-color: var(--disabled-bg-color);\n",
       "    fill: var(--disabled-fill-color);\n",
       "    box-shadow: none;\n",
       "  }\n",
       "\n",
       "  .colab-df-spinner {\n",
       "    border: 2px solid var(--fill-color);\n",
       "    border-color: transparent;\n",
       "    border-bottom-color: var(--fill-color);\n",
       "    animation:\n",
       "      spin 1s steps(1) infinite;\n",
       "  }\n",
       "\n",
       "  @keyframes spin {\n",
       "    0% {\n",
       "      border-color: transparent;\n",
       "      border-bottom-color: var(--fill-color);\n",
       "      border-left-color: var(--fill-color);\n",
       "    }\n",
       "    20% {\n",
       "      border-color: transparent;\n",
       "      border-left-color: var(--fill-color);\n",
       "      border-top-color: var(--fill-color);\n",
       "    }\n",
       "    30% {\n",
       "      border-color: transparent;\n",
       "      border-left-color: var(--fill-color);\n",
       "      border-top-color: var(--fill-color);\n",
       "      border-right-color: var(--fill-color);\n",
       "    }\n",
       "    40% {\n",
       "      border-color: transparent;\n",
       "      border-right-color: var(--fill-color);\n",
       "      border-top-color: var(--fill-color);\n",
       "    }\n",
       "    60% {\n",
       "      border-color: transparent;\n",
       "      border-right-color: var(--fill-color);\n",
       "    }\n",
       "    80% {\n",
       "      border-color: transparent;\n",
       "      border-right-color: var(--fill-color);\n",
       "      border-bottom-color: var(--fill-color);\n",
       "    }\n",
       "    90% {\n",
       "      border-color: transparent;\n",
       "      border-bottom-color: var(--fill-color);\n",
       "    }\n",
       "  }\n",
       "</style>\n",
       "\n",
       "  <script>\n",
       "    async function quickchart(key) {\n",
       "      const quickchartButtonEl =\n",
       "        document.querySelector('#' + key + ' button');\n",
       "      quickchartButtonEl.disabled = true;  // To prevent multiple clicks.\n",
       "      quickchartButtonEl.classList.add('colab-df-spinner');\n",
       "      try {\n",
       "        const charts = await google.colab.kernel.invokeFunction(\n",
       "            'suggestCharts', [key], {});\n",
       "      } catch (error) {\n",
       "        console.error('Error during call to suggestCharts:', error);\n",
       "      }\n",
       "      quickchartButtonEl.classList.remove('colab-df-spinner');\n",
       "      quickchartButtonEl.classList.add('colab-df-quickchart-complete');\n",
       "    }\n",
       "    (() => {\n",
       "      let quickchartButtonEl =\n",
       "        document.querySelector('#df-ab301cc3-d162-4674-b92f-6f44d7947d2f button');\n",
       "      quickchartButtonEl.style.display =\n",
       "        google.colab.kernel.accessAllowed ? 'block' : 'none';\n",
       "    })();\n",
       "  </script>\n",
       "</div>\n",
       "    </div>\n",
       "  </div>\n"
      ],
      "text/plain": [
       "   10  100  11  12  13  15  20  30  40  50  ...  wrong  wrote  yeah  year  \\\n",
       "0   0    0   0   0   0   0   0   0   0   0  ...      0      0     0     0   \n",
       "1   0    0   0   0   0   0   0   0   0   0  ...      0      0     0     0   \n",
       "2   0    0   0   0   0   0   0   0   0   0  ...      0      0     0     0   \n",
       "3   0    0   0   0   0   1   0   0   0   0  ...      1      0     0     0   \n",
       "4   0    0   0   0   0   1   0   0   0   0  ...      0      0     0     0   \n",
       "\n",
       "   years  yes  york  young  younger  zero  \n",
       "0      0    0     0      0        0     0  \n",
       "1      0    0     0      0        0     0  \n",
       "2      0    0     0      0        0     0  \n",
       "3      0    0     0      0        0     0  \n",
       "4      0    0     0      0        0     0  \n",
       "\n",
       "[5 rows x 1565 columns]"
      ]
     },
     "execution_count": 47,
     "metadata": {},
     "output_type": "execute_result"
    }
   ],
   "source": [
    "X = pd.DataFrame(X.toarray(), columns=cv.get_feature_names_out())\n",
    "\n",
    "# Check\n",
    "X.head()"
   ]
  },
  {
   "cell_type": "markdown",
   "metadata": {
    "id": "ddnMb4YqjmS4"
   },
   "source": [
    "We can see that the dataframe is mostly zeros, as most tokens only appear in a very small number of reviews. This matrix numerically describes each movie review. Here we will also pull out the `y` variable which will be our target for the binary classification task:"
   ]
  },
  {
   "cell_type": "code",
   "execution_count": null,
   "metadata": {
    "colab": {
     "base_uri": "https://localhost:8080/"
    },
    "id": "n05Kc08NjmS4",
    "outputId": "01bc6f86-d7ba-4cf9-c949-9ef311093ce9"
   },
   "outputs": [
    {
     "data": {
      "text/plain": [
       "0    1\n",
       "1    0\n",
       "2    0\n",
       "3    0\n",
       "4    0\n",
       "Name: sentiment, dtype: int64"
      ]
     },
     "execution_count": 48,
     "metadata": {},
     "output_type": "execute_result"
    }
   ],
   "source": [
    "y = processed_df['sentiment']\n",
    "y.head()"
   ]
  },
  {
   "cell_type": "markdown",
   "metadata": {
    "id": "B3eUyriOjmS4"
   },
   "source": [
    "We now have our preprocessed text data and an associated target, and so we are ready to fit a supervised machine learning model. Together these two will serve as our *training data* for a machine learning model. First we will split our data into a *training set* and a holdout or *test set* which the model does not see, in order to evaluate the performance of our model in an unbiased way. We can do this is in sklearn using the `train_test_split` method which is specifically for this purpose:"
   ]
  },
  {
   "cell_type": "code",
   "execution_count": null,
   "metadata": {
    "id": "rHGiy0svjmS4"
   },
   "outputs": [],
   "source": [
    "from sklearn.model_selection import train_test_split\n",
    "\n",
    "X_train, X_test, y_train, y_test = train_test_split(X, y, test_size=0.3)"
   ]
  },
  {
   "cell_type": "markdown",
   "metadata": {
    "id": "aGrpUPVbjmS4"
   },
   "source": [
    "Now we can fit our model. In scikit-learn, this is as easy as a few lines of code. We first import the `LogisticRegression` model class, then fit it on the training data, then call `.score`, passing in the training and test sets to get back accuracy scores."
   ]
  },
  {
   "cell_type": "code",
   "execution_count": null,
   "metadata": {
    "colab": {
     "base_uri": "https://localhost:8080/",
     "height": 53
    },
    "id": "q6y9A2UKjmS5",
    "outputId": "4aee84ec-98f3-42db-e672-9bb70741377f"
   },
   "outputs": [
    {
     "data": {
      "text/plain": [
       "0.8151428571428572"
      ]
     },
     "metadata": {},
     "output_type": "display_data"
    },
    {
     "data": {
      "text/plain": [
       "0.7746666666666666"
      ]
     },
     "metadata": {},
     "output_type": "display_data"
    }
   ],
   "source": [
    "from sklearn.linear_model import LogisticRegression\n",
    "\n",
    "# Instantiate the model\n",
    "# Use max_iter for convergence, C value to prevent overfitting\n",
    "logit = LogisticRegression(max_iter=2000, C=0.001)\n",
    "\n",
    "# Fit the model\n",
    "logit.fit(X_train, y_train)\n",
    "\n",
    "# Display the scores on training and test set\n",
    "display(logit.score(X_train, y_train))\n",
    "display(logit.score(X_test, y_test))"
   ]
  },
  {
   "cell_type": "markdown",
   "metadata": {
    "id": "IyIZM6hfjmS5"
   },
   "source": [
    "Here we can see that are model is able to predict the sentiment of a movie review with ~80% accuracy! We could give the model a new movie review and see what its prediction is, assumming we performed the same preprocessing and count vectorization upon it first as we did to the training data.\n",
    "\n",
    "What might be more interesting is doing some *model introspection*. Since positive sentiment is class 1, the model coefficients which are positive will be more predictive of positive sentiment, and those which are negative more predictive of negative sentiment.\n",
    "\n",
    "We can take a look at the most predictive features (tokens) below with a few simple lines of code:"
   ]
  },
  {
   "cell_type": "code",
   "execution_count": null,
   "metadata": {
    "colab": {
     "base_uri": "https://localhost:8080/",
     "height": 371
    },
    "id": "7aed3770",
    "outputId": "caccfcf2-ef05-4979-9c56-81e79724216f"
   },
   "outputs": [
    {
     "data": {
      "image/png": "[encoded data removed]",
      "text/plain": [
       "<Figure size 1000x400 with 2 Axes>"
      ]
     },
     "metadata": {},
     "output_type": "display_data"
    }
   ],
   "source": [
    "# Pull out the coefficients and feature names\n",
    "coef_series = pd.Series(logit.coef_[0], index=cv.get_feature_names_out())\n",
    "\n",
    "# Plot\n",
    "import matplotlib.pyplot as plt\n",
    "\n",
    "plt.subplots(1,2, figsize=(10, 4))\n",
    "\n",
    "# Positive\n",
    "plt.subplot(1,2,1)\n",
    "coef_series.nlargest(10).sort_values().plot(kind='barh', color='green')\n",
    "plt.title('Positive Coefficients')\n",
    "\n",
    "# Negative\n",
    "plt.subplot(1,2,2)\n",
    "coef_series.nsmallest(10).sort_values(ascending=False).plot(kind='barh', color='darkred')\n",
    "plt.title('Negative Coefficients')\n",
    "\n",
    "# Show\n",
    "plt.tight_layout()\n",
    "plt.show()"
   ]
  },
  {
   "cell_type": "markdown",
   "metadata": {
    "id": "V-INzL2tjmS6"
   },
   "source": [
    "We can see that the words appearing in reviews with positive reviews are highly positive, and those in negative reviews are very negative as we would expect. Some tokens might warrant more further investigation into the data if they are nouns. The model has indeed learned something about the appearance of different tokens (words) and their effect on the sentiment of a movie review."
   ]
  },
  {
   "cell_type": "markdown",
   "metadata": {
    "id": "ZTmBHlkljmS6",
    "tags": []
   },
   "source": [
    "### Sentiment Analysis with an LLM and \"Zero-shot\" Learning 🎯\n",
    "\n",
    "While specific models can be explicitly trained for sentiment scoring, many of the powerful, modern state-of-the-art [large language models](https://en.wikipedia.org/wiki/Large_language_model), or LLMs, are general enough that they can perform sentiment analysis tasks. Referred to as [\"zero-shot\" learning](https://en.wikipedia.org/wiki/Zero-shot_learning), though some LLMs have never been given explicit instructions in classifying sentiment, they nonetheless can do such a task given their broad knowledge base from the size of the data used in training. Furthermore, some general models for text generation or other tasks can be further fine-tuned on sentiment analysis specific tasks.\n",
    "\n",
    "While we won't use any code in this section, let's take a look at the very popular [LLaMa v2 70B chat](https://huggingface.co/meta-llama/Llama-2-70b-chat-hf) model from Meta (Facebook) which was released recently in July of 2023. We will use it through the web interface which is made available at [Perplexity Labs](https://labs.perplexity.ai/).\n",
    "\n",
    "<center><img src=\"https://drive.google.com/uc?export=download&id=1Z4NtnkYJ8TM1Z1gP2SUg2PPWoz9kZE3D\"></center>\n",
    "\n",
    "**Initial prompt:**\n",
    "> Classify the sentiment of the following sentence as either negative (CLASS_0) or positive (CLASS_1): \"I love absolutely applesauce, it's the best!\"\n",
    "\n",
    "**Follow-up prompt:**\n",
    "<blockquote>\n",
    "Could you do the same for the following sentences:\n",
    "\n",
    "- \"I hated this movie, it was the worst.\"\n",
    "- \"I loved this movie, it was the best.\"\n",
    "- \"Applesauce is ok, I guess, I don't mind it.\"\n",
    "</blockquote>"
   ]
  },
  {
   "cell_type": "markdown",
   "metadata": {
    "id": "yC4JS7C094HY"
   },
   "source": [
    "## Conclusion 🏁\n",
    "\n",
    "That concludes the webinar for today! I hope you've learned a lot about the fundamentals of natural language processing and what is possible with the tools available to us today, and only a few lines of code here or there.\n",
    "\n",
    "I encourage you to further explore in the list of references and resources below, and to check out further opportunities for learning at https://www.nlpfromscratch.com/training.\n",
    "\n",
    "Thanks for coming!"
   ]
  },
  {
   "cell_type": "markdown",
   "metadata": {
    "id": "_k9JNl9d94HY"
   },
   "source": [
    "### References and Further Reading\n",
    "\n",
    "- The Python Software Foundation. (2023, September 25). *Built-in Types: String Methods* https://docs.python.org/3/library/stdtypes.html#string-methods\n",
    "\n",
    "- *Working with text data*. (n.d.). pandas via NumFOCUS, Inc. Retrieved September 26th, 2023. https://pandas.pydata.org/docs/user_guide/text.html#working-with-text-data\n",
    "\n",
    "- *Requests: HTTP for Humans™*. (n.d.) Reitz, Kenneth & the `requests` authors. Retrieved September 26th, 2023. https://requests.readthedocs.io/en/latest/\n",
    "\n",
    "- *Web scraping*. (n.d.). Wikipedia. Retrieved September 26th, 2023.  https://en.wikipedia.org/wiki/Web_scraping\n",
    "\n",
    "- NLTK Project. (2023, January 2). *Natural Language Toolkit*. https://www.nltk.org/\n",
    "\n",
    "- *Stop word*. (n.d.). Wikipedia. Retrieved September 26th, 2023. https://en.wikipedia.org/wiki/Stop_word\n",
    "\n",
    "- *Working with text data*. (n.d.). scikit-learn developers. Retrieved September 26th, 2023. https://scikit-learn.org/stable/tutorial/text_analytics/working_with_text_data.html"
   ]
  },
  {
   "cell_type": "markdown",
   "metadata": {
    "id": "KsxOj0mxWXUw"
   },
   "source": [
    "----\n",
    "\n",
    "<table border=\"0\" bgcolor=\"white\">\n",
    "  <tr></tr>\n",
    "  <tr>\n",
    "      <th align=\"left\" style=\"align:left; vertical-align: bottom;\"><p>Copyright NLP from scratch, 2023.</p></th>\n",
    "      <th aligh=\"right\" width=\"33%\"><a href=\"https://www.nlpfromscratch.com?utm_source=notebook&utm_medium=nb-footer-img&utm_campaign=2023-11-NLPWebinar\"><img src=\"https://drive.google.com/uc?export=view&id=1-lt6Uft8lgBG9jPD0dO6w3dAcv_EUQRP\"></th>\n",
    "</tr>\n",
    "</table>"
   ]
  }
 ],
 "metadata": {
  "colab": {
   "provenance": []
  },
  "kernelspec": {
   "display_name": "Python 3 (ipykernel)",
   "language": "python",
   "name": "python3"
  },
  "language_info": {
   "codemirror_mode": {
    "name": "ipython",
    "version": 3
   },
   "file_extension": ".py",
   "mimetype": "text/x-python",
   "name": "python",
   "nbconvert_exporter": "python",
   "pygments_lexer": "ipython3",
   "version": "3.11.1"
  }
 },
 "nbformat": 4,
 "nbformat_minor": 1
}
