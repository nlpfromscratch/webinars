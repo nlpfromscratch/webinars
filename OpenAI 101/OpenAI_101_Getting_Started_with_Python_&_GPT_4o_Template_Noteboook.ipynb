{
  "cells": [
    {
      "cell_type": "markdown",
      "metadata": {
        "id": "fwukZZnNTYWE"
      },
      "source": [
        "<a href=\"https://www.nlpfromscratch.com?utm_source=notebook&utm_medium=nb-header\"><center><img src=\"https://drive.google.com/uc?export=view&id=1-lt6Uft8lgBG9jPD0dO6w3dAcv_EUQRP\"></center></a>\n",
        "\n",
        "# OpenAI 101: Getting Started with Python & GPT-4o\n",
        "\n",
        "Copyright, NLP from scratch, 2024.\n",
        "\n",
        "[nlpfromscratch.com](https://www.nlpfromscratch.com)\n",
        "\n",
        "------------"
      ]
    },
    {
      "cell_type": "markdown",
      "metadata": {
        "id": "uuznFjxWVV0n"
      },
      "source": [
        "## Introduction 🎬\n",
        "\n",
        "First we'll need to install the [openai python package](https://github.com/openai/openai-python).\n"
      ]
    },
    {
      "cell_type": "code",
      "execution_count": null,
      "metadata": {
        "id": "nI1qpfWOM_rQ"
      },
      "outputs": [],
      "source": [
        "# Install openai\n"
      ]
    },
    {
      "cell_type": "markdown",
      "source": [
        "Now that we have installed the library, we need to [create an API key](https://platform.openai.com/api-keys). Once the API key has been created, we need to add it to the Google Colab secrets, then set the environment variable using the `userdata` method from Google Colab:\n",
        "\n",
        "[img](../assets/colab_openaikey.png)\n",
        "\n",
        "Now we need to set the enviroment variable in the python environment in Colab to take on this value:"
      ],
      "metadata": {
        "id": "x9ChaM-BBzj8"
      }
    },
    {
      "cell_type": "code",
      "source": [
        "# Set OpenAI API key\n",
        "from google.colab import userdata\n",
        "import os\n",
        "\n",
        "os.environ[\"OPENAI_API_KEY\"] = userdata.get('OPENAI_API_KEY')"
      ],
      "metadata": {
        "id": "VUwiszy6ColA"
      },
      "execution_count": null,
      "outputs": []
    },
    {
      "cell_type": "markdown",
      "source": [
        "Now that we are ready to go with the OpenAI API key, we can write python code and make [a request to the API](https://platform.openai.com/docs/quickstart/step-3-sending-your-first-api-request)!"
      ],
      "metadata": {
        "id": "R92sxItqDqJD"
      }
    },
    {
      "cell_type": "code",
      "source": [
        "# Make a request to the OpenAI API and return the result\n",
        "\n",
        "\n",
        "\n",
        "\n"
      ],
      "metadata": {
        "id": "9P7tdLkOB7F9"
      },
      "execution_count": null,
      "outputs": []
    },
    {
      "cell_type": "markdown",
      "source": [
        "Great, now let's add streaming! This is as simple as setting the `stream=True` parameter in the request, then processing the results, chunk by chunk:"
      ],
      "metadata": {
        "id": "vFTDw0khEDZ0"
      }
    },
    {
      "cell_type": "code",
      "source": [
        "\n",
        "\n",
        "\n",
        "\n",
        "\n",
        "\n"
      ],
      "metadata": {
        "id": "z8r2trPpELXu"
      },
      "execution_count": null,
      "outputs": []
    },
    {
      "cell_type": "markdown",
      "metadata": {
        "id": "ejmekUvHra2I"
      },
      "source": [
        "## Conclusion 🏁\n",
        "\n",
        "We have just begun to scratch the surface getting started with OpenAI and GPT! For more, check out the workshop at [nlpfromscratch.com/training](https://www.nlpfromscratch.com/training)."
      ]
    },
    {
      "cell_type": "markdown",
      "metadata": {
        "id": "KsxOj0mxWXUw"
      },
      "source": [
        "----\n",
        "\n",
        "<table border=\"0\" bgcolor=\"white\">\n",
        "  <tr></tr>\n",
        "  <tr>\n",
        "      <th align=\"left\" style=\"align:left; vertical-align: bottom;\"><p>Copyright NLP from scratch, 2024.</p></th>\n",
        "      <th aligh=\"right\" width=\"33%\"><a href=\"https://www.nlpfromscratch.com?utm_source=notebook&utm_medium=nb-footer-img\"><img src=\"https://drive.google.com/uc?export=view&id=1-lt6Uft8lgBG9jPD0dO6w3dAcv_EUQRP\"></th>\n",
        "</tr>\n",
        "</table>"
      ]
    }
  ],
  "metadata": {
    "accelerator": "GPU",
    "colab": {
      "gpuType": "T4",
      "provenance": []
    },
    "jupytext": {
      "main_language": "python"
    },
    "kernelspec": {
      "display_name": "Python 3",
      "name": "python3"
    },
    "language_info": {
      "codemirror_mode": {
        "name": "ipython",
        "version": 3
      },
      "file_extension": ".py",
      "mimetype": "text/x-python",
      "name": "python",
      "nbconvert_exporter": "python",
      "pygments_lexer": "ipython3",
      "version": "3.11.1"
    }
  },
  "nbformat": 4,
  "nbformat_minor": 0
}